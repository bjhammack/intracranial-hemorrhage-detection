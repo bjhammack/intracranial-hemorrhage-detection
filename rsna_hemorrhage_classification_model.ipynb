{
 "cells": [
  {
   "cell_type": "markdown",
   "metadata": {},
   "source": [
    "# Data Import"
   ]
  },
  {
   "cell_type": "markdown",
   "metadata": {},
   "source": [
    "## Library Imports"
   ]
  },
  {
   "cell_type": "code",
   "execution_count": 33,
   "metadata": {
    "ExecuteTime": {
     "end_time": "2020-01-27T05:41:31.588566Z",
     "start_time": "2020-01-27T05:41:31.564659Z"
    }
   },
   "outputs": [],
   "source": [
    "%matplotlib inline\n",
    "import matplotlib.pyplot as plt\n",
    "import seaborn as sns\n",
    "import pandas as pd\n",
    "import numpy as np\n",
    "from numpy import argmax\n",
    "import cv2\n",
    "import glob\n",
    "import pydicom as dicom\n",
    "import random as ran\n",
    "from scipy.ndimage.interpolation import rotate\n",
    "\n",
    "from sklearn.model_selection import train_test_split\n",
    "from sklearn import preprocessing\n",
    "from sklearn.preprocessing import MultiLabelBinarizer\n",
    "from sklearn.metrics import classification_report\n",
    "from sklearn.utils import shuffle\n",
    "from skmultilearn.problem_transform import BinaryRelevance\n",
    "\n",
    "import keras\n",
    "from keras.models import Sequential\n",
    "from keras.layers import Dense, Flatten, Dropout\n",
    "from keras.regularizers import l2, l1\n",
    "from keras.optimizers import SGD"
   ]
  },
  {
   "cell_type": "markdown",
   "metadata": {},
   "source": [
    "## Training Label CSV Transformation"
   ]
  },
  {
   "cell_type": "markdown",
   "metadata": {},
   "source": [
    "The training labels come in the format:\n",
    "\n",
    "<table>\n",
    "    <tr>\n",
    "        <th>\n",
    "            ID\n",
    "        </th>\n",
    "        <th>\n",
    "            Label\n",
    "        </th>\n",
    "    </tr>\n",
    "    <tr>\n",
    "        <td>\n",
    "            12345_intraparenchymal\n",
    "        </td>\n",
    "        <td>\n",
    "            1\n",
    "        </td>\n",
    "    </tr>\n",
    "    <tr>\n",
    "        <td>\n",
    "            12345_subarachnoid\n",
    "        </td>\n",
    "        <td>\n",
    "            0\n",
    "        </td>\n",
    "    </tr>\n",
    "    <tr>\n",
    "        <td>\n",
    "            12345_subdural\n",
    "        </td>\n",
    "        <td>\n",
    "            1\n",
    "        </td>\n",
    "    </tr>\n",
    "    <tr>\n",
    "        <td>\n",
    "            12345_intraventricular\n",
    "        </td>\n",
    "        <td>\n",
    "            0\n",
    "        </td>\n",
    "    </tr>\n",
    "    <tr>\n",
    "        <td>\n",
    "            12345_epidural\n",
    "        </td>\n",
    "        <td>\n",
    "            0\n",
    "        </td>\n",
    "    </tr>\n",
    "    <tr>\n",
    "        <td>\n",
    "            12345_any\n",
    "        </td>\n",
    "        <td>\n",
    "            1\n",
    "        </td>\n",
    "    </tr>\n",
    "</table>\n",
    "\n",
    "Where each patient ID (`ID`) has six individual rows, each one providing one of the six forms of hemorrhaging along with a boolean column indicating whether that type of hemorrhaging is present in the image.\n",
    "\n",
    "This format requires some transformation before it can be used in a model. All patient IDs on a single row, with a list of hemorrhage types indicating which are present in that ID will be much more conducive to one hot encoding and eventual classification.\n",
    "\n",
    "To do this, first I needed to separate the data into two pd.Series; one for IDs that did have hemorrhaging and one for IDs with no hemorrhaging. This is because of the six row per ID format, I needed to perform different transformations on positive and negative IDs. After this, all that was required was grouping by the IDs, then performing the specific transformation for each type of label. The results was:\n",
    "\n",
    "<table>\n",
    "    <tr>\n",
    "        <th>\n",
    "            ID\n",
    "        </th>\n",
    "        <th>\n",
    "            hem\n",
    "        </th>\n",
    "    </tr>\n",
    "    <tr>\n",
    "        <td>\n",
    "            ID_12345\n",
    "        </td>\n",
    "        <td>\n",
    "            [intraparenchymal, subdural, any]\n",
    "        </td>\n",
    "    </tr>\n",
    "    <tr>\n",
    "        <td>\n",
    "            ID_22345\n",
    "        </td>\n",
    "        <td>\n",
    "            [subarachnoid, any]\n",
    "        </td>\n",
    "    </tr>\n",
    "    <tr>\n",
    "        <td>\n",
    "            ID_32345\n",
    "        </td>\n",
    "        <td>\n",
    "            [none]\n",
    "        </td>\n",
    "    </tr>\n",
    "</table>"
   ]
  },
  {
   "cell_type": "code",
   "execution_count": 10,
   "metadata": {
    "ExecuteTime": {
     "end_time": "2020-01-26T16:19:52.299391Z",
     "start_time": "2020-01-26T16:19:20.448604Z"
    }
   },
   "outputs": [
    {
     "name": "stdout",
     "output_type": "stream",
     "text": [
      "Length of train_csv: 4045572\n",
      "Expected length of post-transform train_labels: 674262\n",
      "ID\n",
      "0002081b6         intraparenchymal\n",
      "0002a38ad    subarachnoid_subdural\n",
      "000346ce2                 subdural\n",
      "00042829c         intraventricular\n",
      "0004a5701                 subdural\n",
      "dtype: object\n",
      "ID_0002081b6          [intraparenchymal]\n",
      "ID_0002a38ad    [subarachnoid, subdural]\n",
      "ID_000346ce2                  [subdural]\n",
      "ID_00042829c          [intraventricular]\n",
      "ID_0004a5701                  [subdural]\n",
      "dtype: object\n",
      "Training labels created.\n",
      "Length of train_labels: 674258\n"
     ]
    }
   ],
   "source": [
    "train_csv = pd.read_csv('C:/users/sourp/documents/github_repos/ihd_data/data/stage_1_train.csv')\n",
    "#train_csv = pd.read_csv(\"./data/stage_1_train.csv\")\n",
    "print('Length of train_csv:',str(len(train_csv)))\n",
    "print('Expected length of post-transform train_labels:', str(int(len(train_csv)/6)))\n",
    "\n",
    "train_csv = train_csv[~train_csv.ID.str.contains('any')]\n",
    "train_csv['hem'] = train_csv['ID'].str.split('_').str[2]\n",
    "\n",
    "train_labels_pos = train_csv.loc[train_csv['Label']==1].groupby([train_csv['ID'].str.split('_').str[1]\n",
    "                                                                ])['hem'].apply(lambda x: \"%s\" % '_'.join(x))\n",
    "train_labels_neg = train_csv.groupby([train_csv[\"ID\"].str.split(\"_\").str[1]]).sum()\n",
    "train_labels_neg[train_labels_neg == 0] = 'none'\n",
    "train_labels_neg = train_labels_neg[train_labels_neg == 'none']\n",
    "train_labels_neg.dropna(inplace=True)\n",
    "\n",
    "train_labels = train_labels_pos.append(train_labels_neg['Label'])\n",
    "print(train_labels.head())\n",
    "\n",
    "train_labels.index = 'ID_'+train_labels.index\n",
    "train_labels = train_labels.str.split('_')\n",
    "\n",
    "print(train_labels.head())\n",
    "print('Training labels created.\\nLength of train_labels: '+str(len(train_labels)))"
   ]
  },
  {
   "cell_type": "markdown",
   "metadata": {},
   "source": [
    "## Images Import and Labeling"
   ]
  },
  {
   "cell_type": "markdown",
   "metadata": {},
   "source": [
    "The images come in the dicom image format. This format is one of the standard image formats for CT scan images and has a unique and helpful feature in the form of metadata.\n",
    "\n",
    "With this robust metadata, you can have access to many different attributes and labels associated with the image. Using the format `image.attribute` you can access this information.\n",
    "\n",
    "In this case, I need the `image.pixel_array` to actually load the image into python and `image.SOPInstanceUID` which is the patient ID I can then use to match up images with their respective training label.\n",
    "\n",
    "All images are then loaded into an np.array, then transferred to a dictionary in one key, while a second key holds the labels for each image."
   ]
  },
  {
   "cell_type": "code",
   "execution_count": 11,
   "metadata": {
    "ExecuteTime": {
     "end_time": "2020-01-26T16:20:04.265351Z",
     "start_time": "2020-01-26T16:20:04.255379Z"
    }
   },
   "outputs": [],
   "source": [
    "def import_images(total_images, hem_rate):\n",
    "    image_arrays = []\n",
    "    labels = []\n",
    "    image_counter = 0\n",
    "    total_images = total_images\n",
    "    hem_img_count = 0\n",
    "    total_hem_img_count = int(total_images*hem_rate)\n",
    "\n",
    "    files = glob.glob(\"C:/users/sourp/documents/github_repos/ihd_data/data/stage_1_train_images/*.dcm\")\n",
    "    #files = glob.glob(\"./data/stage_1_train_images/*.dcm\")\n",
    "    ran.shuffle(files)\n",
    "\n",
    "    for im_file in files:\n",
    "        if image_counter < total_images:\n",
    "            try:\n",
    "                image = dicom.dcmread(im_file)\n",
    "                image_array = image.pixel_array\n",
    "                image_array_resized = cv2.resize(image_array,(50,50))\n",
    "                image_label = train_labels.loc[train_labels.index==str(image.SOPInstanceUID)][0]\n",
    "\n",
    "                if 'none' not in image_label and hem_img_count < total_hem_img_count:\n",
    "                    if image_counter % 1000 == 0 and image_counter != 0:\n",
    "                        print(str(image_counter), 'images imported.')\n",
    "                    image_arrays.append(image_array_resized)\n",
    "                    labels.append(image_label)\n",
    "                    hem_img_count += 1\n",
    "                    image_counter += 1\n",
    "                elif hem_img_count >= total_hem_img_count:\n",
    "                    if image_counter % 1000 == 0 and image_counter != 0:\n",
    "                        print(str(image_counter), 'images imported.')\n",
    "                    image_arrays.append(image_array_resized)\n",
    "                    labels.append(image_label)\n",
    "                    image_counter += 1    \n",
    "            except:\n",
    "                pass\n",
    "        else:\n",
    "            break\n",
    "\n",
    "    print('Import complete.'+'\\n\\n'+'images: ' + str(image_counter)+'\\n')\n",
    "\n",
    "    image_arrays, labels = shuffle(np.asarray(image_arrays), np.asarray(labels), random_state=0)\n",
    "    data = {'images': image_arrays, 'labels': labels}\n",
    "    \n",
    "    print(data['images'][0],'\\n\\n',data['labels'][0])\n",
    "    \n",
    "    return data"
   ]
  },
  {
   "cell_type": "code",
   "execution_count": 12,
   "metadata": {
    "ExecuteTime": {
     "end_time": "2020-01-27T02:13:50.758574Z",
     "start_time": "2020-01-26T16:20:36.795491Z"
    }
   },
   "outputs": [
    {
     "name": "stdout",
     "output_type": "stream",
     "text": [
      "1000 images imported.\n",
      "2000 images imported.\n",
      "3000 images imported.\n",
      "4000 images imported.\n",
      "5000 images imported.\n",
      "6000 images imported.\n",
      "7000 images imported.\n",
      "8000 images imported.\n",
      "9000 images imported.\n",
      "10000 images imported.\n",
      "11000 images imported.\n",
      "12000 images imported.\n",
      "13000 images imported.\n",
      "14000 images imported.\n",
      "15000 images imported.\n",
      "16000 images imported.\n",
      "17000 images imported.\n",
      "18000 images imported.\n",
      "19000 images imported.\n",
      "20000 images imported.\n",
      "21000 images imported.\n",
      "22000 images imported.\n",
      "23000 images imported.\n",
      "24000 images imported.\n",
      "25000 images imported.\n",
      "26000 images imported.\n",
      "27000 images imported.\n",
      "28000 images imported.\n",
      "29000 images imported.\n",
      "30000 images imported.\n",
      "31000 images imported.\n",
      "32000 images imported.\n",
      "33000 images imported.\n",
      "34000 images imported.\n",
      "35000 images imported.\n",
      "36000 images imported.\n",
      "37000 images imported.\n",
      "38000 images imported.\n",
      "39000 images imported.\n",
      "40000 images imported.\n",
      "41000 images imported.\n",
      "42000 images imported.\n",
      "43000 images imported.\n",
      "44000 images imported.\n",
      "45000 images imported.\n",
      "46000 images imported.\n",
      "47000 images imported.\n",
      "48000 images imported.\n",
      "49000 images imported.\n",
      "50000 images imported.\n",
      "51000 images imported.\n",
      "52000 images imported.\n",
      "53000 images imported.\n",
      "54000 images imported.\n",
      "55000 images imported.\n",
      "56000 images imported.\n",
      "57000 images imported.\n",
      "58000 images imported.\n",
      "59000 images imported.\n",
      "60000 images imported.\n",
      "61000 images imported.\n",
      "62000 images imported.\n",
      "63000 images imported.\n",
      "64000 images imported.\n",
      "65000 images imported.\n",
      "66000 images imported.\n",
      "67000 images imported.\n",
      "68000 images imported.\n",
      "69000 images imported.\n",
      "70000 images imported.\n",
      "71000 images imported.\n",
      "72000 images imported.\n",
      "73000 images imported.\n",
      "74000 images imported.\n",
      "75000 images imported.\n",
      "76000 images imported.\n",
      "77000 images imported.\n",
      "78000 images imported.\n",
      "79000 images imported.\n",
      "80000 images imported.\n",
      "81000 images imported.\n",
      "82000 images imported.\n",
      "83000 images imported.\n",
      "84000 images imported.\n",
      "85000 images imported.\n",
      "86000 images imported.\n",
      "87000 images imported.\n",
      "88000 images imported.\n",
      "89000 images imported.\n",
      "90000 images imported.\n",
      "91000 images imported.\n",
      "92000 images imported.\n",
      "93000 images imported.\n",
      "94000 images imported.\n",
      "95000 images imported.\n",
      "96000 images imported.\n",
      "97000 images imported.\n",
      "98000 images imported.\n",
      "99000 images imported.\n",
      "Import complete.\n",
      "\n",
      "images: 100000\n",
      "\n",
      "[[113 110 110 ... 106 105 109]\n",
      " [113 111 106 ... 103 108 109]\n",
      " [112 109 108 ... 104 105 109]\n",
      " ...\n",
      " [213 215 218 ... 214 212 208]\n",
      " [211 216 220 ... 219 218 203]\n",
      " [212 215 223 ... 220 216 212]] \n",
      "\n",
      " ['intraventricular']\n",
      "1000 images imported.\n",
      "2000 images imported.\n",
      "3000 images imported.\n",
      "4000 images imported.\n",
      "5000 images imported.\n",
      "6000 images imported.\n",
      "7000 images imported.\n",
      "8000 images imported.\n",
      "9000 images imported.\n",
      "10000 images imported.\n",
      "11000 images imported.\n",
      "12000 images imported.\n",
      "13000 images imported.\n",
      "14000 images imported.\n",
      "15000 images imported.\n",
      "16000 images imported.\n",
      "17000 images imported.\n",
      "18000 images imported.\n",
      "19000 images imported.\n",
      "20000 images imported.\n",
      "21000 images imported.\n",
      "22000 images imported.\n",
      "23000 images imported.\n",
      "24000 images imported.\n",
      "Import complete.\n",
      "\n",
      "images: 25000\n",
      "\n",
      "[[ 28  24  23 ...  25  26  24]\n",
      " [ 24  26  28 ...  24  26  24]\n",
      " [ 22  20  25 ...  28  25  24]\n",
      " ...\n",
      " [ 26  36 894 ...  23  22  24]\n",
      " [ 26  28  53 ...  24  23  21]\n",
      " [ 25  24  28 ...  19  24  20]] \n",
      "\n",
      " ['intraparenchymal']\n"
     ]
    }
   ],
   "source": [
    "data = import_images(100000, .75)\n",
    "test_data = import_images(25000, .75)"
   ]
  },
  {
   "cell_type": "markdown",
   "metadata": {},
   "source": [
    "For the sake of testing, both pieces of data are read into DataFrames, then written to CSVs, so the images won't need to be imported every time."
   ]
  },
  {
   "cell_type": "code",
   "execution_count": 46,
   "metadata": {
    "ExecuteTime": {
     "end_time": "2020-02-01T19:56:42.482639Z",
     "start_time": "2020-02-01T19:56:18.562823Z"
    }
   },
   "outputs": [],
   "source": [
    "training_data_array = data['images']\n",
    "training_labels_array = data['labels']\n",
    "\n",
    "test_data_array = test_data['images']\n",
    "test_labels_array = test_data['labels']\n",
    "\n",
    "np.save('./data/training_data_array.npy', training_data_array)\n",
    "np.save('./data/training_labels_array.npy', training_labels_array)\n",
    "\n",
    "np.save('./data/test_data_array.npy', test_data_array)\n",
    "np.save('./data/test_labels_array.npy', test_labels_array)"
   ]
  },
  {
   "cell_type": "code",
   "execution_count": 47,
   "metadata": {
    "ExecuteTime": {
     "end_time": "2020-02-02T07:56:19.190950Z",
     "start_time": "2020-02-02T07:55:13.243666Z"
    }
   },
   "outputs": [],
   "source": [
    "training_data_array = np.load('./data/training_data_array.npy')\n",
    "training_labels_array = np.load('./data/training_labels_array.npy')\n",
    "\n",
    "tdata = {'images':training_data_array,'labels':training_labels_array}\n",
    "\n",
    "#test_data_array = np.load('./data/test_data_array.npy')\n",
    "#test_labels_array = np.load('./data/test_labels_array.npy')"
   ]
  },
  {
   "cell_type": "markdown",
   "metadata": {},
   "source": [
    "# Data Examination"
   ]
  },
  {
   "cell_type": "markdown",
   "metadata": {},
   "source": [
    "## Image Example"
   ]
  },
  {
   "cell_type": "code",
   "execution_count": 69,
   "metadata": {
    "ExecuteTime": {
     "end_time": "2020-01-25T08:24:34.293966Z",
     "start_time": "2020-01-25T08:24:34.195202Z"
    }
   },
   "outputs": [
    {
     "data": {
      "image/png": "[encoded data removed]",
      "text/plain": [
       "<Figure size 432x288 with 1 Axes>"
      ]
     },
     "metadata": {
      "needs_background": "light"
     },
     "output_type": "display_data"
    }
   ],
   "source": [
    "random_index = ran.randint(0, 99999)\n",
    "random_scan = data['images'][95878][:,:]/255\n",
    "\n",
    "plt.imshow(random_scan, cmap='gray');"
   ]
  },
  {
   "cell_type": "markdown",
   "metadata": {},
   "source": [
    "## Label Information"
   ]
  },
  {
   "cell_type": "code",
   "execution_count": 14,
   "metadata": {
    "ExecuteTime": {
     "end_time": "2020-01-27T02:30:30.981608Z",
     "start_time": "2020-01-27T02:30:29.416540Z"
    }
   },
   "outputs": [
    {
     "name": "stdout",
     "output_type": "stream",
     "text": [
      "['epidural'] -- Occurences: 1016\n",
      "['epidural', 'intraparenchymal'] -- Occurences: 155\n",
      "['epidural', 'intraparenchymal', 'intraventricular'] -- Occurences: 30\n",
      "['epidural', 'intraparenchymal', 'intraventricular', 'subarachnoid'] -- Occurences: 26\n",
      "['epidural', 'intraparenchymal', 'intraventricular', 'subarachnoid', 'subdural'] -- Occurences: 13\n",
      "['epidural', 'intraparenchymal', 'intraventricular', 'subdural'] -- Occurences: 11\n",
      "['epidural', 'intraparenchymal', 'subarachnoid'] -- Occurences: 51\n",
      "['epidural', 'intraparenchymal', 'subarachnoid', 'subdural'] -- Occurences: 29\n",
      "['epidural', 'intraparenchymal', 'subdural'] -- Occurences: 56\n",
      "['epidural', 'intraventricular'] -- Occurences: 22\n",
      "['epidural', 'intraventricular', 'subarachnoid'] -- Occurences: 8\n",
      "['epidural', 'intraventricular', 'subarachnoid', 'subdural'] -- Occurences: 21\n",
      "['epidural', 'intraventricular', 'subdural'] -- Occurences: 8\n",
      "['epidural', 'subarachnoid'] -- Occurences: 124\n",
      "['epidural', 'subarachnoid', 'subdural'] -- Occurences: 65\n",
      "['epidural', 'subdural'] -- Occurences: 232\n",
      "['intraparenchymal'] -- Occurences: 9391\n",
      "['intraparenchymal', 'intraventricular'] -- Occurences: 4279\n",
      "['intraparenchymal', 'intraventricular', 'subarachnoid'] -- Occurences: 1186\n",
      "['intraparenchymal', 'intraventricular', 'subarachnoid', 'subdural'] -- Occurences: 518\n",
      "['intraparenchymal', 'intraventricular', 'subdural'] -- Occurences: 432\n",
      "['intraparenchymal', 'subarachnoid'] -- Occurences: 2474\n",
      "['intraparenchymal', 'subarachnoid', 'subdural'] -- Occurences: 1354\n",
      "['intraparenchymal', 'subdural'] -- Occurences: 2014\n",
      "['intraventricular'] -- Occurences: 6003\n",
      "['intraventricular', 'subarachnoid'] -- Occurences: 2178\n",
      "['intraventricular', 'subarachnoid', 'subdural'] -- Occurences: 597\n",
      "['intraventricular', 'subdural'] -- Occurences: 691\n",
      "['none'] -- Occurences: 34287\n",
      "['subarachnoid'] -- Occurences: 9969\n",
      "['subarachnoid', 'subdural'] -- Occurences: 3132\n",
      "['subdural'] -- Occurences: 19628\n"
     ]
    },
    {
     "data": {
      "image/png": "[encoded data removed]",
      "text/plain": [
       "<Figure size 432x288 with 1 Axes>"
      ]
     },
     "metadata": {
      "needs_background": "light"
     },
     "output_type": "display_data"
    }
   ],
   "source": [
    "hemorrhages = {'epidural':0,'intraparenchymal':0,'intraventricular':0,'subarachnoid':0,'subdural':0 \\\n",
    "               ,'any':0,'none':0}\n",
    "unique_labels, label_counts = np.unique(data['labels'], return_counts=True)\n",
    "\n",
    "index = 0\n",
    "for i in unique_labels:\n",
    "    print(i,'-- Occurences:',label_counts[index])\n",
    "    for k,v in hemorrhages.items():\n",
    "        if k in i:\n",
    "            hemorrhages[k] += int(label_counts[index])\n",
    "    index += 1\n",
    "\n",
    "ax = sns.barplot(x=list(hemorrhages.keys()), y=list(hemorrhages.values()))\n",
    "ax.title.set_text('Label Occurences')\n",
    "ax.set_xticklabels(labels = list(hemorrhages.keys()),rotation=30)\n",
    "plt.show()"
   ]
  },
  {
   "cell_type": "markdown",
   "metadata": {},
   "source": [
    "## Correlation"
   ]
  },
  {
   "cell_type": "markdown",
   "metadata": {},
   "source": [
    "To examine how often hemorrhaging types occur with each other, I create a DataFrame whose columns are the types and whose values are a boolean indicating if that hemorrhaging type occurs in that label. This is then mapped to a DataFrame shaped like a matrix, where the columns and indexes are both type names, and the rate of cross-occurences are the values. This is then plotted on a heatmap."
   ]
  },
  {
   "cell_type": "code",
   "execution_count": 20,
   "metadata": {
    "ExecuteTime": {
     "end_time": "2020-01-27T02:35:34.239360Z",
     "start_time": "2020-01-27T02:35:33.602046Z"
    }
   },
   "outputs": [
    {
     "name": "stdout",
     "output_type": "stream",
     "text": [
      "   subdural  epidural  intraparenchymal  intraventricular  subarachnoid   none\n",
      "0     False     False             False              True         False  False\n",
      "1     False     False             False             False         False   True\n",
      "2     False     False             False              True         False  False\n",
      "3     False     False              True             False         False  False\n",
      "4     False     False              True             False         False  False\n"
     ]
    },
    {
     "data": {
      "image/png": "[encoded data removed]",
      "text/plain": [
       "<Figure size 432x288 with 2 Axes>"
      ]
     },
     "metadata": {
      "needs_background": "light"
     },
     "output_type": "display_data"
    }
   ],
   "source": [
    "labels = {'subdural':[],'epidural':[],'intraparenchymal':[],'intraventricular':[],'subarachnoid':[],'none':[]}\n",
    "\n",
    "for i in data['labels']:\n",
    "    for k,v in labels.items():\n",
    "        if k in i:\n",
    "            v.append(True)\n",
    "        else:\n",
    "            v.append(False)\n",
    "\n",
    "label_ovlp_df = pd.DataFrame(labels)\n",
    "print(label_ovlp_df.head())\n",
    "\n",
    "label_ovlp_rt_df = pd.DataFrame(index=list(labels.keys()), columns=list(labels.keys()))\n",
    "label_ovlp_rt_df = label_ovlp_rt_df.astype(float)\n",
    "\n",
    "for i in list(labels.keys()):\n",
    "    for j in list(labels.keys()):\n",
    "        label_ovlp_rt_df.loc[i,j] = len(label_ovlp_df[label_ovlp_df[[i,j]].eq(True).all(axis=1)])/ \\\n",
    "            len(label_ovlp_df[label_ovlp_df[i].eq(True)])\n",
    "\n",
    "ax = sns.heatmap(label_ovlp_rt_df, vmin=0, vmax=1, annot=True, fmt='.2f', linewidth=.5, cmap='Blues')\n",
    "ax.title.set_text('Rate of Y = True when X = True')\n",
    "plt.show()"
   ]
  },
  {
   "cell_type": "markdown",
   "metadata": {},
   "source": [
    "# Data Cleaning"
   ]
  },
  {
   "cell_type": "markdown",
   "metadata": {},
   "source": [
    "## Minority Over-sampling\n",
    "Due to the distribution of labels seen above, there is a risk that the data will be biased towards certain labels. To prevent this, I implement an over-sampling technique inspired by SMOTE, to even out the labels."
   ]
  },
  {
   "cell_type": "code",
   "execution_count": 106,
   "metadata": {
    "ExecuteTime": {
     "end_time": "2020-02-02T18:27:34.076057Z",
     "start_time": "2020-02-02T18:27:33.883561Z"
    }
   },
   "outputs": [],
   "source": [
    "epid_indexes = []\n",
    "sudu_indexes = []\n",
    "inpa_indexes = []\n",
    "inve_indexes = []\n",
    "suar_indexes = []\n",
    "none_indexes = []\n",
    "\n",
    "it = np.nditer(data['labels'], flags=['f_index', 'refs_ok'])\n",
    "while not it.finished:\n",
    "    if 'epidural' in it[0].tolist():\n",
    "        epid_indexes.append(it.index)\n",
    "    if 'subdural' in it[0].tolist():\n",
    "        sudu_indexes.append(it.index)\n",
    "    if 'intraparenchymal' in it[0].tolist():\n",
    "        inpa_indexes.append(it.index)\n",
    "    if 'intraventricular' in it[0].tolist():\n",
    "        inve_indexes.append(it.index)\n",
    "    if 'subarachnoid' in it[0].tolist():\n",
    "        suar_indexes.append(it.index)\n",
    "    if 'none' in it[0].tolist():\n",
    "        none_indexes.append(it.index)\n",
    "    it.iternext()"
   ]
  },
  {
   "cell_type": "code",
   "execution_count": 110,
   "metadata": {
    "ExecuteTime": {
     "end_time": "2020-02-03T00:41:15.203182Z",
     "start_time": "2020-02-03T00:41:15.199183Z"
    }
   },
   "outputs": [
    {
     "name": "stdout",
     "output_type": "stream",
     "text": [
      "  1867 \n",
      " 28801 \n",
      " 22019 \n",
      " 16023 \n",
      " 21745 \n",
      " 34287\n"
     ]
    }
   ],
   "source": [
    "print(' ',len(epid_indexes),'\\n',len(sudu_indexes),'\\n',len(inpa_indexes),'\\n',len(inve_indexes),'\\n' \\\n",
    "     ,len(suar_indexes),'\\n',len(none_indexes))\n"
   ]
  },
  {
   "cell_type": "markdown",
   "metadata": {},
   "source": [
    "# Data Transformation"
   ]
  },
  {
   "cell_type": "code",
   "execution_count": 49,
   "metadata": {
    "ExecuteTime": {
     "end_time": "2020-02-02T07:57:15.608040Z",
     "start_time": "2020-02-02T07:57:13.599229Z"
    }
   },
   "outputs": [
    {
     "name": "stdout",
     "output_type": "stream",
     "text": [
      "(100000, 50, 50)\n",
      "[[0 0 1 0 0 0]\n",
      " [0 0 0 1 0 0]\n",
      " [0 0 1 0 0 0]\n",
      " [0 1 0 0 0 0]\n",
      " [0 1 0 0 0 0]\n",
      " [0 0 1 0 0 0]\n",
      " [0 0 0 1 0 0]\n",
      " [0 0 0 0 1 0]\n",
      " [0 1 1 0 0 0]\n",
      " [0 0 0 0 0 1]]\n",
      "(100000, 50, 50)\n",
      "(100000, 2500)\n",
      "(100000, 6)\n"
     ]
    },
    {
     "data": {
      "text/plain": [
       "array([0.44313726, 0.43137255, 0.43137255, ..., 0.8627451 , 0.84705883,\n",
       "       0.83137256], dtype=float32)"
      ]
     },
     "execution_count": 49,
     "metadata": {},
     "output_type": "execute_result"
    }
   ],
   "source": [
    "X_temp = tdata['images']/255\n",
    "\n",
    "X = np.empty(shape=[X_temp.shape[0]] + [2500], dtype='float32')\n",
    "print(X_temp.shape)\n",
    "\n",
    "for im in range(X_temp.shape[0]):\n",
    "    X[im,:] = X_temp[im,:,:].flatten()\n",
    "\n",
    "mlb = MultiLabelBinarizer()\n",
    "y = mlb.fit_transform(tdata['labels'])\n",
    "\n",
    "print(y[:10])\n",
    "print(X_temp.shape)\n",
    "print(X.shape)\n",
    "print(y.shape)\n",
    "X[0,:]"
   ]
  },
  {
   "cell_type": "code",
   "execution_count": 50,
   "metadata": {
    "ExecuteTime": {
     "end_time": "2020-02-02T07:57:20.168011Z",
     "start_time": "2020-02-02T07:57:19.488397Z"
    }
   },
   "outputs": [
    {
     "name": "stdout",
     "output_type": "stream",
     "text": [
      "(75000, 2500)\n",
      "(75000, 6)\n"
     ]
    }
   ],
   "source": [
    "# Neural Network train/test split\n",
    "X_train, X_test, y_train, y_test = train_test_split(\n",
    "    X, y, test_size=0.25, random_state=50)\n",
    "\n",
    "print (X_train.shape)\n",
    "print (y_train.shape)"
   ]
  },
  {
   "cell_type": "code",
   "execution_count": 51,
   "metadata": {
    "ExecuteTime": {
     "end_time": "2020-02-02T07:57:29.259934Z",
     "start_time": "2020-02-02T07:57:23.634873Z"
    }
   },
   "outputs": [],
   "source": [
    "stdscaler = preprocessing.StandardScaler().fit(X_train)\n",
    "\n",
    "X_train_scaled = stdscaler.transform(X_train)\n",
    "X_test_scaled  = stdscaler.transform(X_test)"
   ]
  },
  {
   "cell_type": "markdown",
   "metadata": {},
   "source": [
    "# Neural Network Model"
   ]
  },
  {
   "cell_type": "code",
   "execution_count": 52,
   "metadata": {
    "ExecuteTime": {
     "end_time": "2020-02-02T07:57:31.449645Z",
     "start_time": "2020-02-02T07:57:30.798329Z"
    }
   },
   "outputs": [
    {
     "name": "stderr",
     "output_type": "stream",
     "text": [
      "C:\\Users\\sourp\\Anaconda3\\lib\\site-packages\\ipykernel_launcher.py:5: UserWarning: Update your `Dense` call to the Keras 2 API: `Dense(144, input_shape=[2500], activation=\"relu\", kernel_regularizer=<keras.reg...)`\n",
      "  \"\"\"\n",
      "C:\\Users\\sourp\\Anaconda3\\lib\\site-packages\\ipykernel_launcher.py:6: UserWarning: Update your `Dense` call to the Keras 2 API: `Dense(108, activation=\"relu\", kernel_regularizer=<keras.reg...)`\n",
      "  \n",
      "C:\\Users\\sourp\\Anaconda3\\lib\\site-packages\\ipykernel_launcher.py:8: UserWarning: Update your `Dense` call to the Keras 2 API: `Dense(72, activation=\"relu\", kernel_regularizer=<keras.reg...)`\n",
      "  \n",
      "C:\\Users\\sourp\\Anaconda3\\lib\\site-packages\\ipykernel_launcher.py:10: UserWarning: Update your `Dense` call to the Keras 2 API: `Dense(48, activation=\"relu\", kernel_regularizer=<keras.reg...)`\n",
      "  # Remove the CWD from sys.path while we load stuff.\n",
      "C:\\Users\\sourp\\Anaconda3\\lib\\site-packages\\ipykernel_launcher.py:11: UserWarning: Update your `Dense` call to the Keras 2 API: `Dense(6, activation=\"sigmoid\", kernel_regularizer=<keras.reg...)`\n",
      "  # This is added back by InteractiveShellApp.init_path()\n"
     ]
    }
   ],
   "source": [
    "label_count = len(mlb.classes_)\n",
    "\n",
    "model = Sequential()\n",
    "\n",
    "model.add(Dense(label_count*24, input_shape=[2500], activation='relu', W_regularizer=l2(0.1)))\n",
    "model.add(Dense(label_count*18, activation='relu', W_regularizer=l2(0.01)))\n",
    "model.add(Dropout(0.3))\n",
    "model.add(Dense(label_count*12, activation='relu', W_regularizer=l2(0.01)))\n",
    "model.add(Dropout(0.2))\n",
    "model.add(Dense(label_count*8, activation='relu', W_regularizer=l2(0.001)))\n",
    "model.add(Dense(label_count, activation='sigmoid', W_regularizer=l1(0.001)))\n",
    "\n",
    "sgd = SGD(lr=0.1)\n",
    "model.compile(loss='binary_crossentropy', optimizer=sgd, metrics=['accuracy'])"
   ]
  },
  {
   "cell_type": "code",
   "execution_count": 53,
   "metadata": {
    "ExecuteTime": {
     "end_time": "2020-02-02T07:57:32.585434Z",
     "start_time": "2020-02-02T07:57:32.581445Z"
    }
   },
   "outputs": [
    {
     "name": "stdout",
     "output_type": "stream",
     "text": [
      "Model: \"sequential_5\"\n",
      "_________________________________________________________________\n",
      "Layer (type)                 Output Shape              Param #   \n",
      "=================================================================\n",
      "dense_16 (Dense)             (None, 144)               360144    \n",
      "_________________________________________________________________\n",
      "dense_17 (Dense)             (None, 108)               15660     \n",
      "_________________________________________________________________\n",
      "dropout_7 (Dropout)          (None, 108)               0         \n",
      "_________________________________________________________________\n",
      "dense_18 (Dense)             (None, 72)                7848      \n",
      "_________________________________________________________________\n",
      "dropout_8 (Dropout)          (None, 72)                0         \n",
      "_________________________________________________________________\n",
      "dense_19 (Dense)             (None, 48)                3504      \n",
      "_________________________________________________________________\n",
      "dense_20 (Dense)             (None, 6)                 294       \n",
      "=================================================================\n",
      "Total params: 387,450\n",
      "Trainable params: 387,450\n",
      "Non-trainable params: 0\n",
      "_________________________________________________________________\n"
     ]
    }
   ],
   "source": [
    "model.summary()"
   ]
  },
  {
   "cell_type": "code",
   "execution_count": 54,
   "metadata": {
    "ExecuteTime": {
     "end_time": "2020-02-02T08:00:02.500027Z",
     "start_time": "2020-02-02T07:57:36.275273Z"
    }
   },
   "outputs": [
    {
     "name": "stdout",
     "output_type": "stream",
     "text": [
      "Train on 75000 samples, validate on 25000 samples\n",
      "Epoch 1/50\n",
      " - 4s - loss: 4.1686 - accuracy: 0.7956 - val_loss: 1.2033 - val_accuracy: 0.8076\n",
      "Epoch 2/50\n",
      " - 3s - loss: 0.9346 - accuracy: 0.8074 - val_loss: 0.7402 - val_accuracy: 0.8102\n",
      "Epoch 3/50\n",
      " - 3s - loss: 0.6560 - accuracy: 0.8085 - val_loss: 0.5897 - val_accuracy: 0.8096\n",
      "Epoch 4/50\n",
      " - 3s - loss: 0.5627 - accuracy: 0.8088 - val_loss: 0.5365 - val_accuracy: 0.8110\n",
      "Epoch 5/50\n",
      " - 3s - loss: 0.5282 - accuracy: 0.8092 - val_loss: 0.5142 - val_accuracy: 0.8108\n",
      "Epoch 6/50\n",
      " - 3s - loss: 0.5123 - accuracy: 0.8091 - val_loss: 0.5026 - val_accuracy: 0.8104\n",
      "Epoch 7/50\n",
      " - 3s - loss: 0.5031 - accuracy: 0.8095 - val_loss: 0.4970 - val_accuracy: 0.8100\n",
      "Epoch 8/50\n",
      " - 3s - loss: 0.4970 - accuracy: 0.8095 - val_loss: 0.4900 - val_accuracy: 0.8106\n",
      "Epoch 9/50\n",
      " - 3s - loss: 0.4919 - accuracy: 0.8093 - val_loss: 0.4866 - val_accuracy: 0.8106\n",
      "Epoch 10/50\n",
      " - 3s - loss: 0.4879 - accuracy: 0.8093 - val_loss: 0.4810 - val_accuracy: 0.8116\n",
      "Epoch 11/50\n",
      " - 3s - loss: 0.4841 - accuracy: 0.8095 - val_loss: 0.4799 - val_accuracy: 0.8107\n",
      "Epoch 12/50\n",
      " - 3s - loss: 0.4815 - accuracy: 0.8092 - val_loss: 0.4773 - val_accuracy: 0.8109\n",
      "Epoch 13/50\n",
      " - 3s - loss: 0.4795 - accuracy: 0.8092 - val_loss: 0.4748 - val_accuracy: 0.8102\n",
      "Epoch 14/50\n",
      " - 3s - loss: 0.4772 - accuracy: 0.8096 - val_loss: 0.4711 - val_accuracy: 0.8111\n",
      "Epoch 15/50\n",
      " - 3s - loss: 0.4756 - accuracy: 0.8094 - val_loss: 0.4717 - val_accuracy: 0.8101\n",
      "Epoch 16/50\n",
      " - 3s - loss: 0.4737 - accuracy: 0.8094 - val_loss: 0.4690 - val_accuracy: 0.8106\n",
      "Epoch 17/50\n",
      " - 3s - loss: 0.4724 - accuracy: 0.8090 - val_loss: 0.4673 - val_accuracy: 0.8113\n",
      "Epoch 18/50\n",
      " - 3s - loss: 0.4706 - accuracy: 0.8095 - val_loss: 0.4728 - val_accuracy: 0.8081\n",
      "Epoch 19/50\n",
      " - 3s - loss: 0.4696 - accuracy: 0.8094 - val_loss: 0.4651 - val_accuracy: 0.8116\n",
      "Epoch 20/50\n",
      " - 3s - loss: 0.4693 - accuracy: 0.8090 - val_loss: 0.4643 - val_accuracy: 0.8118\n",
      "Epoch 21/50\n",
      " - 3s - loss: 0.4676 - accuracy: 0.8095 - val_loss: 0.4651 - val_accuracy: 0.8098\n",
      "Epoch 22/50\n",
      " - 3s - loss: 0.4666 - accuracy: 0.8096 - val_loss: 0.4632 - val_accuracy: 0.8100\n",
      "Epoch 23/50\n",
      " - 3s - loss: 0.4661 - accuracy: 0.8095 - val_loss: 0.4733 - val_accuracy: 0.8078\n",
      "Epoch 24/50\n",
      " - 3s - loss: 0.4652 - accuracy: 0.8096 - val_loss: 0.4612 - val_accuracy: 0.8106\n",
      "Epoch 25/50\n",
      " - 3s - loss: 0.4643 - accuracy: 0.8096 - val_loss: 0.4597 - val_accuracy: 0.8113\n",
      "Epoch 26/50\n",
      " - 3s - loss: 0.4638 - accuracy: 0.8095 - val_loss: 0.4607 - val_accuracy: 0.8104\n",
      "Epoch 27/50\n",
      " - 3s - loss: 0.4634 - accuracy: 0.8095 - val_loss: 0.4606 - val_accuracy: 0.8100\n",
      "Epoch 28/50\n",
      " - 3s - loss: 0.4625 - accuracy: 0.8097 - val_loss: 0.4612 - val_accuracy: 0.8101\n",
      "Epoch 29/50\n",
      " - 3s - loss: 0.4625 - accuracy: 0.8096 - val_loss: 0.4571 - val_accuracy: 0.8114\n",
      "Epoch 30/50\n",
      " - 3s - loss: 0.4616 - accuracy: 0.8095 - val_loss: 0.4576 - val_accuracy: 0.8110\n",
      "Epoch 31/50\n",
      " - 3s - loss: 0.4616 - accuracy: 0.8095 - val_loss: 0.4574 - val_accuracy: 0.8107\n",
      "Epoch 32/50\n",
      " - 3s - loss: 0.4610 - accuracy: 0.8096 - val_loss: 0.4601 - val_accuracy: 0.8114\n",
      "Epoch 33/50\n",
      " - 3s - loss: 0.4610 - accuracy: 0.8095 - val_loss: 0.4633 - val_accuracy: 0.8084\n",
      "Epoch 34/50\n",
      " - 3s - loss: 0.4609 - accuracy: 0.8092 - val_loss: 0.4570 - val_accuracy: 0.8113\n",
      "Epoch 35/50\n",
      " - 3s - loss: 0.4606 - accuracy: 0.8092 - val_loss: 0.4593 - val_accuracy: 0.8102\n",
      "Epoch 36/50\n",
      " - 3s - loss: 0.4601 - accuracy: 0.8095 - val_loss: 0.4586 - val_accuracy: 0.8106\n",
      "Epoch 37/50\n",
      " - 3s - loss: 0.4601 - accuracy: 0.8094 - val_loss: 0.4552 - val_accuracy: 0.8113\n",
      "Epoch 38/50\n",
      " - 3s - loss: 0.4597 - accuracy: 0.8096 - val_loss: 0.4553 - val_accuracy: 0.8103\n",
      "Epoch 39/50\n",
      " - 3s - loss: 0.4594 - accuracy: 0.8096 - val_loss: 0.4571 - val_accuracy: 0.8103\n",
      "Epoch 40/50\n",
      " - 3s - loss: 0.4596 - accuracy: 0.8094 - val_loss: 0.4551 - val_accuracy: 0.8101\n",
      "Epoch 41/50\n",
      " - 3s - loss: 0.4591 - accuracy: 0.8096 - val_loss: 0.4570 - val_accuracy: 0.8101\n",
      "Epoch 42/50\n",
      " - 3s - loss: 0.4590 - accuracy: 0.8095 - val_loss: 0.4581 - val_accuracy: 0.8102\n",
      "Epoch 43/50\n",
      " - 3s - loss: 0.4593 - accuracy: 0.8092 - val_loss: 0.4564 - val_accuracy: 0.8097\n",
      "Epoch 44/50\n",
      " - 3s - loss: 0.4591 - accuracy: 0.8094 - val_loss: 0.4647 - val_accuracy: 0.8092\n",
      "Epoch 45/50\n",
      " - 3s - loss: 0.4590 - accuracy: 0.8097 - val_loss: 0.4586 - val_accuracy: 0.8099\n",
      "Epoch 46/50\n",
      " - 3s - loss: 0.4591 - accuracy: 0.8096 - val_loss: 0.4564 - val_accuracy: 0.8109\n",
      "Epoch 47/50\n",
      " - 3s - loss: 0.4588 - accuracy: 0.8096 - val_loss: 0.4552 - val_accuracy: 0.8110\n",
      "Epoch 48/50\n",
      " - 3s - loss: 0.4586 - accuracy: 0.8097 - val_loss: 0.4659 - val_accuracy: 0.8081\n",
      "Epoch 49/50\n",
      " - 3s - loss: 0.4585 - accuracy: 0.8096 - val_loss: 0.4554 - val_accuracy: 0.8098\n",
      "Epoch 50/50\n",
      " - 3s - loss: 0.4587 - accuracy: 0.8096 - val_loss: 0.4615 - val_accuracy: 0.8082\n"
     ]
    }
   ],
   "source": [
    "history = model.fit(X_train_scaled, y_train, batch_size = 256, \n",
    "                    epochs = 50, verbose=2, validation_data=(X_test_scaled, y_test))"
   ]
  },
  {
   "cell_type": "code",
   "execution_count": 55,
   "metadata": {
    "ExecuteTime": {
     "end_time": "2020-02-02T08:02:56.158450Z",
     "start_time": "2020-02-02T08:02:55.953729Z"
    }
   },
   "outputs": [
    {
     "name": "stdout",
     "output_type": "stream",
     "text": [
      "BC after final iteration:  0.4615072406291962\n"
     ]
    },
    {
     "data": {
      "image/png": "[encoded data removed]",
      "text/plain": [
       "<Figure size 432x288 with 1 Axes>"
      ]
     },
     "metadata": {
      "needs_background": "light"
     },
     "output_type": "display_data"
    }
   ],
   "source": [
    "fig = plt.figure(figsize=(6,4))\n",
    "\n",
    "# Summary of loss history\n",
    "plt.plot(history.history['loss'])\n",
    "plt.plot(history.history['val_loss'], 'g--')\n",
    "plt.title('Model Loss')\n",
    "plt.ylabel('Binary Crossentropy')\n",
    "plt.xlabel('Epoch')\n",
    "plt.legend(['Training Loss', 'Testing Loss'], loc='upper right')\n",
    "plt.title('Loss After Final Iteration: '+str(history.history['val_loss'][-1]))\n",
    "print (\"BC after final iteration: \", history.history['val_loss'][-1])\n",
    "plt.show()"
   ]
  },
  {
   "cell_type": "code",
   "execution_count": 56,
   "metadata": {
    "ExecuteTime": {
     "end_time": "2020-02-02T08:02:57.056415Z",
     "start_time": "2020-02-02T08:02:56.938728Z"
    },
    "scrolled": true
   },
   "outputs": [
    {
     "name": "stdout",
     "output_type": "stream",
     "text": [
      "Accuracy after final iteration:  0.8082000017166138\n"
     ]
    },
    {
     "data": {
      "image/png": "[encoded data removed]",
      "text/plain": [
       "<Figure size 432x288 with 1 Axes>"
      ]
     },
     "metadata": {
      "needs_background": "light"
     },
     "output_type": "display_data"
    }
   ],
   "source": [
    "fig = plt.figure(figsize=(6,4))\n",
    "\n",
    "# Summary of accuracy history\n",
    "plt.plot(history.history['accuracy'])\n",
    "plt.plot(history.history['val_accuracy'], 'g--')\n",
    "plt.title('Model Accuracy')\n",
    "plt.ylabel('Model Accuracy')\n",
    "plt.xlabel('Epoch')\n",
    "plt.legend(['Training Accuracy', 'Testing Accuracy'], loc='lower left')\n",
    "plt.title('Accuracy After Final Iteration: '+str(history.history['val_accuracy'][-1]))\n",
    "print (\"Accuracy after final iteration: \", history.history['val_accuracy'][-1])\n",
    "plt.show()"
   ]
  },
  {
   "cell_type": "markdown",
   "metadata": {},
   "source": [
    "## Test Model"
   ]
  },
  {
   "cell_type": "code",
   "execution_count": 29,
   "metadata": {
    "ExecuteTime": {
     "end_time": "2020-01-27T03:01:03.144138Z",
     "start_time": "2020-01-27T03:01:00.687731Z"
    }
   },
   "outputs": [
    {
     "name": "stdout",
     "output_type": "stream",
     "text": [
      "(25000, 50, 50)\n",
      "[[0 1 0 0 0 0]\n",
      " [0 0 0 0 1 0]\n",
      " [0 0 0 1 0 0]\n",
      " [0 0 0 0 1 0]\n",
      " [0 0 0 0 0 1]\n",
      " [0 0 0 0 0 1]\n",
      " [0 0 0 1 0 0]\n",
      " [0 0 0 0 0 1]\n",
      " [0 0 0 0 0 1]\n",
      " [0 0 0 1 0 0]]\n",
      "(25000, 50, 50)\n",
      "(25000, 2500)\n",
      "(25000, 6)\n"
     ]
    }
   ],
   "source": [
    "test_X_temp = test_data['images']/255\n",
    "\n",
    "test_X = np.empty(shape=[test_X_temp.shape[0]] + [2500], dtype='float32')\n",
    "print(test_X_temp.shape)\n",
    "\n",
    "for im in range(test_X_temp.shape[0]):\n",
    "    test_X[im,:] = test_X_temp[im,:,:].flatten()\n",
    "\n",
    "test_mlb = MultiLabelBinarizer()\n",
    "test_y = test_mlb.fit_transform(test_data['labels'])\n",
    "\n",
    "print(test_y[:10])\n",
    "print(test_X_temp.shape)\n",
    "print(test_X.shape)\n",
    "print(test_y.shape)\n",
    "test_X[0,:]\n",
    "\n",
    "test_stdscaler = preprocessing.StandardScaler().fit(test_X)\n",
    "\n",
    "test_X_scaled = test_stdscaler.transform(test_X)\n",
    "#test_X_test_scaled  = test_stdscaler.transform(X_test)"
   ]
  },
  {
   "cell_type": "code",
   "execution_count": 30,
   "metadata": {
    "ExecuteTime": {
     "end_time": "2020-01-27T03:01:04.684871Z",
     "start_time": "2020-01-27T03:01:04.276964Z"
    }
   },
   "outputs": [],
   "source": [
    "test_y_pred = model.predict(test_X_scaled, batch_size=256, verbose=2)\n",
    "test_y_actual = np.argmax(test_y_pred, axis=1)"
   ]
  },
  {
   "cell_type": "code",
   "execution_count": 43,
   "metadata": {
    "ExecuteTime": {
     "end_time": "2020-01-29T05:34:35.415608Z",
     "start_time": "2020-01-29T05:34:35.411650Z"
    }
   },
   "outputs": [
    {
     "name": "stdout",
     "output_type": "stream",
     "text": [
      "<class 'numpy.ndarray'>\n",
      "[0 1 0 0 0 0]\n"
     ]
    }
   ],
   "source": [
    "print(test_y_pred[0])\n",
    "print(test_y[0])"
   ]
  },
  {
   "cell_type": "code",
   "execution_count": 83,
   "metadata": {
    "ExecuteTime": {
     "end_time": "2020-01-25T08:29:22.727170Z",
     "start_time": "2020-01-25T08:29:22.410644Z"
    }
   },
   "outputs": [
    {
     "ename": "ValueError",
     "evalue": "Classification metrics can't handle a mix of continuous-multioutput and binary targets",
     "output_type": "error",
     "traceback": [
      "\u001b[1;31m---------------------------------------------------------------------------\u001b[0m",
      "\u001b[1;31mValueError\u001b[0m                                Traceback (most recent call last)",
      "\u001b[1;32m<ipython-input-83-34299ff92e71>\u001b[0m in \u001b[0;36m<module>\u001b[1;34m\u001b[0m\n\u001b[1;32m----> 1\u001b[1;33m \u001b[0mprint\u001b[0m\u001b[1;33m(\u001b[0m\u001b[0mclassification_report\u001b[0m\u001b[1;33m(\u001b[0m\u001b[0mtest_y_pred\u001b[0m\u001b[1;33m,\u001b[0m \u001b[0mtest_y_actual\u001b[0m\u001b[1;33m)\u001b[0m\u001b[1;33m)\u001b[0m\u001b[1;33m\u001b[0m\u001b[1;33m\u001b[0m\u001b[0m\n\u001b[0m",
      "\u001b[1;32m~\\Anaconda3\\lib\\site-packages\\sklearn\\metrics\\classification.py\u001b[0m in \u001b[0;36mclassification_report\u001b[1;34m(y_true, y_pred, labels, target_names, sample_weight, digits, output_dict)\u001b[0m\n\u001b[0;32m   1522\u001b[0m     \"\"\"\n\u001b[0;32m   1523\u001b[0m \u001b[1;33m\u001b[0m\u001b[0m\n\u001b[1;32m-> 1524\u001b[1;33m     \u001b[0my_type\u001b[0m\u001b[1;33m,\u001b[0m \u001b[0my_true\u001b[0m\u001b[1;33m,\u001b[0m \u001b[0my_pred\u001b[0m \u001b[1;33m=\u001b[0m \u001b[0m_check_targets\u001b[0m\u001b[1;33m(\u001b[0m\u001b[0my_true\u001b[0m\u001b[1;33m,\u001b[0m \u001b[0my_pred\u001b[0m\u001b[1;33m)\u001b[0m\u001b[1;33m\u001b[0m\u001b[1;33m\u001b[0m\u001b[0m\n\u001b[0m\u001b[0;32m   1525\u001b[0m \u001b[1;33m\u001b[0m\u001b[0m\n\u001b[0;32m   1526\u001b[0m     \u001b[0mlabels_given\u001b[0m \u001b[1;33m=\u001b[0m \u001b[1;32mTrue\u001b[0m\u001b[1;33m\u001b[0m\u001b[1;33m\u001b[0m\u001b[0m\n",
      "\u001b[1;32m~\\Anaconda3\\lib\\site-packages\\sklearn\\metrics\\classification.py\u001b[0m in \u001b[0;36m_check_targets\u001b[1;34m(y_true, y_pred)\u001b[0m\n\u001b[0;32m     79\u001b[0m     \u001b[1;32mif\u001b[0m \u001b[0mlen\u001b[0m\u001b[1;33m(\u001b[0m\u001b[0my_type\u001b[0m\u001b[1;33m)\u001b[0m \u001b[1;33m>\u001b[0m \u001b[1;36m1\u001b[0m\u001b[1;33m:\u001b[0m\u001b[1;33m\u001b[0m\u001b[1;33m\u001b[0m\u001b[0m\n\u001b[0;32m     80\u001b[0m         raise ValueError(\"Classification metrics can't handle a mix of {0} \"\n\u001b[1;32m---> 81\u001b[1;33m                          \"and {1} targets\".format(type_true, type_pred))\n\u001b[0m\u001b[0;32m     82\u001b[0m \u001b[1;33m\u001b[0m\u001b[0m\n\u001b[0;32m     83\u001b[0m     \u001b[1;31m# We can't have more than one value on y_type => The set is no more needed\u001b[0m\u001b[1;33m\u001b[0m\u001b[1;33m\u001b[0m\u001b[1;33m\u001b[0m\u001b[0m\n",
      "\u001b[1;31mValueError\u001b[0m: Classification metrics can't handle a mix of continuous-multioutput and binary targets"
     ]
    }
   ],
   "source": [
    "print(classification_report(test_y_pred, test_y_actual))"
   ]
  },
  {
   "cell_type": "code",
   "execution_count": 44,
   "metadata": {
    "ExecuteTime": {
     "end_time": "2020-01-29T05:36:26.380097Z",
     "start_time": "2020-01-29T05:36:26.299206Z"
    }
   },
   "outputs": [],
   "source": [
    "test_y_pred_rounded = np.around(test_y_pred)"
   ]
  },
  {
   "cell_type": "code",
   "execution_count": 45,
   "metadata": {
    "ExecuteTime": {
     "end_time": "2020-01-29T05:36:34.871533Z",
     "start_time": "2020-01-29T05:36:34.839646Z"
    }
   },
   "outputs": [
    {
     "data": {
      "text/plain": [
       "array([0., 0., 0., 0., 0., 0.], dtype=float32)"
      ]
     },
     "execution_count": 45,
     "metadata": {},
     "output_type": "execute_result"
    }
   ],
   "source": [
    "test_y_pred_rounded[0]"
   ]
  }
 ],
 "metadata": {
  "kernelspec": {
   "display_name": "Python 3",
   "language": "python",
   "name": "python3"
  },
  "language_info": {
   "codemirror_mode": {
    "name": "ipython",
    "version": 3
   },
   "file_extension": ".py",
   "mimetype": "text/x-python",
   "name": "python",
   "nbconvert_exporter": "python",
   "pygments_lexer": "ipython3",
   "version": "3.7.1"
  },
  "toc": {
   "base_numbering": 1,
   "nav_menu": {},
   "number_sections": true,
   "sideBar": true,
   "skip_h1_title": false,
   "title_cell": "Table of Contents",
   "title_sidebar": "Contents",
   "toc_cell": false,
   "toc_position": {
    "height": "calc(100% - 180px)",
    "left": "10px",
    "top": "150px",
    "width": "377.188px"
   },
   "toc_section_display": true,
   "toc_window_display": true
  },
  "varInspector": {
   "cols": {
    "lenName": 16,
    "lenType": 16,
    "lenVar": 40
   },
   "kernels_config": {
    "python": {
     "delete_cmd_postfix": "",
     "delete_cmd_prefix": "del ",
     "library": "var_list.py",
     "varRefreshCmd": "print(var_dic_list())"
    },
    "r": {
     "delete_cmd_postfix": ") ",
     "delete_cmd_prefix": "rm(",
     "library": "var_list.r",
     "varRefreshCmd": "cat(var_dic_list()) "
    }
   },
   "types_to_exclude": [
    "module",
    "function",
    "builtin_function_or_method",
    "instance",
    "_Feature"
   ],
   "window_display": false
  }
 },
 "nbformat": 4,
 "nbformat_minor": 2
}
