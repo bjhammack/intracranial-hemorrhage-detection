{
 "cells": [
  {
   "cell_type": "markdown",
   "metadata": {},
   "source": [
    "# Data Import"
   ]
  },
  {
   "cell_type": "markdown",
   "metadata": {},
   "source": [
    "## Library Imports"
   ]
  },
  {
   "cell_type": "code",
   "execution_count": 1,
   "metadata": {
    "ExecuteTime": {
     "end_time": "2020-01-22T06:43:30.656851Z",
     "start_time": "2020-01-22T06:43:27.162693Z"
    }
   },
   "outputs": [
    {
     "name": "stderr",
     "output_type": "stream",
     "text": [
      "Using TensorFlow backend.\n"
     ]
    }
   ],
   "source": [
    "%matplotlib inline\n",
    "import matplotlib.pyplot as plt\n",
    "import pandas as pd\n",
    "import numpy as np\n",
    "from numpy import argmax\n",
    "import cv2\n",
    "import glob\n",
    "import pydicom as dicom\n",
    "import random as ran\n",
    "from scipy.ndimage.interpolation import rotate\n",
    "\n",
    "from sklearn.model_selection import train_test_split\n",
    "from sklearn import preprocessing\n",
    "from sklearn.preprocessing import MultiLabelBinarizer\n",
    "\n",
    "import keras\n",
    "from keras.models import Sequential\n",
    "from keras.layers import Dense, Flatten, Dropout\n",
    "from keras.regularizers import l2, l1\n",
    "from keras.optimizers import SGD"
   ]
  },
  {
   "cell_type": "markdown",
   "metadata": {},
   "source": [
    "## Training Label CSV Transformation"
   ]
  },
  {
   "cell_type": "markdown",
   "metadata": {},
   "source": [
    "The training labels come in the format:\n",
    "\n",
    "<table>\n",
    "    <tr>\n",
    "        <th>\n",
    "            ID\n",
    "        </th>\n",
    "        <th>\n",
    "            Label\n",
    "        </th>\n",
    "    </tr>\n",
    "    <tr>\n",
    "        <td>\n",
    "            12345_intraparenchymal\n",
    "        </td>\n",
    "        <td>\n",
    "            1\n",
    "        </td>\n",
    "    </tr>\n",
    "    <tr>\n",
    "        <td>\n",
    "            12345_subarachnoid\n",
    "        </td>\n",
    "        <td>\n",
    "            0\n",
    "        </td>\n",
    "    </tr>\n",
    "    <tr>\n",
    "        <td>\n",
    "            12345_subdural\n",
    "        </td>\n",
    "        <td>\n",
    "            1\n",
    "        </td>\n",
    "    </tr>\n",
    "    <tr>\n",
    "        <td>\n",
    "            12345_intraventricular\n",
    "        </td>\n",
    "        <td>\n",
    "            0\n",
    "        </td>\n",
    "    </tr>\n",
    "    <tr>\n",
    "        <td>\n",
    "            12345_epidural\n",
    "        </td>\n",
    "        <td>\n",
    "            0\n",
    "        </td>\n",
    "    </tr>\n",
    "    <tr>\n",
    "        <td>\n",
    "            12345_any\n",
    "        </td>\n",
    "        <td>\n",
    "            1\n",
    "        </td>\n",
    "    </tr>\n",
    "</table>\n",
    "\n",
    "Where each patient ID (`ID`) has six individual rows, each one providing one of the six forms of hemorrhaging along with a boolean column indicating whether that type of hemorrhaging is present in the image.\n",
    "\n",
    "This format requires some transformation before it can be used in a model. All patient IDs on a single row, with a list of hemorrhage types indicating which are present in that ID will be much more conducive to one hot encoding and eventual classification.\n",
    "\n",
    "To do this, first I needed to separate the data into two pd.Series; one for IDs that did have hemorrhaging and one for IDs with no hemorrhaging. This is because of the six row per ID format, I needed to perform different transformations on positive and negative IDs. After this, all that was required was grouping by the IDs, then performing the specific transformation for each type of label. The results was:\n",
    "\n",
    "<table>\n",
    "    <tr>\n",
    "        <th>\n",
    "            ID\n",
    "        </th>\n",
    "        <th>\n",
    "            hem\n",
    "        </th>\n",
    "    </tr>\n",
    "    <tr>\n",
    "        <td>\n",
    "            ID_12345\n",
    "        </td>\n",
    "        <td>\n",
    "            [intraparenchymal, subdural, any]\n",
    "        </td>\n",
    "    </tr>\n",
    "    <tr>\n",
    "        <td>\n",
    "            ID_22345\n",
    "        </td>\n",
    "        <td>\n",
    "            [subarachnoid, any]\n",
    "        </td>\n",
    "    </tr>\n",
    "    <tr>\n",
    "        <td>\n",
    "            ID_32345\n",
    "        </td>\n",
    "        <td>\n",
    "            [none]\n",
    "        </td>\n",
    "    </tr>\n",
    "</table>"
   ]
  },
  {
   "cell_type": "code",
   "execution_count": 2,
   "metadata": {
    "ExecuteTime": {
     "end_time": "2020-01-22T06:44:01.435601Z",
     "start_time": "2020-01-22T06:43:32.819861Z"
    }
   },
   "outputs": [
    {
     "name": "stdout",
     "output_type": "stream",
     "text": [
      "Length of train_csv: 4045572\n",
      "Expected length of post-tranform train_labels: 674262\n",
      "ID\n",
      "0002081b6         intraparenchymal_any\n",
      "0002a38ad    subarachnoid_subdural_any\n",
      "000346ce2                 subdural_any\n",
      "00042829c         intraventricular_any\n",
      "0004a5701                 subdural_any\n",
      "dtype: object\n",
      "ID_0002081b6          [intraparenchymal, any]\n",
      "ID_0002a38ad    [subarachnoid, subdural, any]\n",
      "ID_000346ce2                  [subdural, any]\n",
      "ID_00042829c          [intraventricular, any]\n",
      "ID_0004a5701                  [subdural, any]\n",
      "dtype: object\n",
      "Training labels created.\n",
      "Length of train_labels: 674258\n"
     ]
    }
   ],
   "source": [
    "train_csv = pd.read_csv('C:/users/sourp/documents/github_repos/ihd_data/data/stage_1_train.csv')\n",
    "#train_csv = pd.read_csv(\"./data/stage_1_train.csv\")\n",
    "print('Length of train_csv:',str(len(train_csv)))\n",
    "print('Expected length of post-tranform train_labels:', str(int(len(train_csv)/6)))\n",
    "\n",
    "train_csv['hem'] = train_csv['ID'].str.split('_').str[2]\n",
    "\n",
    "train_labels_pos = train_csv.loc[train_csv['Label']==1].groupby([train_csv['ID'].str.split('_').str[1]\n",
    "                                                                ])['hem'].apply(lambda x: \"%s\" % '_'.join(x))\n",
    "train_labels_neg = train_csv.groupby([train_csv[\"ID\"].str.split(\"_\").str[1]]).sum()\n",
    "train_labels_neg[train_labels_neg == 0] = 'none'\n",
    "train_labels_neg = train_labels_neg[train_labels_neg == 'none']\n",
    "train_labels_neg.dropna(inplace=True)\n",
    "\n",
    "train_labels = train_labels_pos.append(train_labels_neg['Label'])\n",
    "print(train_labels.head())\n",
    "\n",
    "train_labels.index = 'ID_'+train_labels.index\n",
    "train_labels = train_labels.str.split('_')\n",
    "\n",
    "print(train_labels.head())\n",
    "print('Training labels created.\\nLength of train_labels: '+str(len(train_labels)))"
   ]
  },
  {
   "cell_type": "markdown",
   "metadata": {},
   "source": [
    "## Images Import and Labeling"
   ]
  },
  {
   "cell_type": "markdown",
   "metadata": {},
   "source": [
    "The images come in the dicom image format. This format is one of the standard image formats for CT scan images and has a unique and helpful feature in the form of metadata.\n",
    "\n",
    "With this robust metadata, you can have access to many different attributes and labels associated with the image. Using the format `image.attribute` you can access this information.\n",
    "\n",
    "In this case, I need the `image.pixel_array` to actually load the image into python and `image.SOPInstanceUID` which is the patient ID I can then use to match up images with their respective training label.\n",
    "\n",
    "All images are then loaded into an np.array, then transferred to a dictionary in one key, while a second key holds the labels for each image."
   ]
  },
  {
   "cell_type": "code",
   "execution_count": 3,
   "metadata": {
    "ExecuteTime": {
     "end_time": "2020-01-22T06:44:05.654275Z",
     "start_time": "2020-01-22T06:44:05.643305Z"
    }
   },
   "outputs": [],
   "source": [
    "def import_images(total_images, hem_rate):\n",
    "    image_arrays = []\n",
    "    labels = []\n",
    "    image_counter = 0\n",
    "    total_images = total_images\n",
    "    hem_img_count = 0\n",
    "    total_hem_img_count = int(total_images*hem_rate)\n",
    "\n",
    "    files = glob.glob(\"C:/users/sourp/documents/github_repos/ihd_data/data/stage_1_train_images/*.dcm\")\n",
    "    #files = glob.glob(\"./data/stage_1_train_images/*.dcm\")\n",
    "    ran.shuffle(files)\n",
    "\n",
    "    for im_file in files:\n",
    "        if image_counter < total_images:\n",
    "            try:\n",
    "                image = dicom.dcmread(im_file)\n",
    "                image_array = image.pixel_array\n",
    "                image_array_resized = cv2.resize(image_array,(50,50))\n",
    "                image_label = train_labels.loc[train_labels.index==str(image.SOPInstanceUID)][0]\n",
    "\n",
    "                if 'any' in image_label and hem_img_count < total_hem_img_count:\n",
    "                    if image_counter % 1000 == 0 and image_counter != 0:\n",
    "                        print(str(image_counter), 'images imported.')\n",
    "                    image_arrays.append(image_array_resized)\n",
    "                    labels.append(image_label)\n",
    "                    hem_img_count += 1\n",
    "                    image_counter += 1\n",
    "                elif hem_img_count >= total_hem_img_count:\n",
    "                    if image_counter % 1000 == 0 and image_counter != 0:\n",
    "                        print(str(image_counter), 'images imported.')\n",
    "                    image_arrays.append(image_array_resized)\n",
    "                    labels.append(image_label)\n",
    "                    image_counter += 1    \n",
    "            except:\n",
    "                pass\n",
    "        else:\n",
    "            break\n",
    "\n",
    "    print('Import complete.'+'\\n\\n'+'images: ' + str(image_counter)+'\\n')\n",
    "\n",
    "    data = {'images': np.asarray(image_arrays), 'labels': np.asarray(labels)}\n",
    "    print(data['images'][0],'\\n\\n',data['labels'][0])\n",
    "    \n",
    "    return data"
   ]
  },
  {
   "cell_type": "code",
   "execution_count": null,
   "metadata": {
    "ExecuteTime": {
     "start_time": "2020-01-22T06:44:12.591Z"
    }
   },
   "outputs": [],
   "source": [
    "data = import_images(100000, .9)\n",
    "test_data = import_images(25000, .9)"
   ]
  },
  {
   "cell_type": "markdown",
   "metadata": {},
   "source": [
    "# Data Examination"
   ]
  },
  {
   "cell_type": "markdown",
   "metadata": {},
   "source": [
    "## Image Example"
   ]
  },
  {
   "cell_type": "code",
   "execution_count": 39,
   "metadata": {
    "ExecuteTime": {
     "end_time": "2020-01-20T04:30:41.449412Z",
     "start_time": "2020-01-20T04:30:41.354693Z"
    }
   },
   "outputs": [
    {
     "data": {
      "image/png": "[encoded data removed]",
      "text/plain": [
       "<Figure size 432x288 with 1 Axes>"
      ]
     },
     "metadata": {
      "needs_background": "light"
     },
     "output_type": "display_data"
    }
   ],
   "source": [
    "random_index = ran.randint(0, image_counter-1)\n",
    "random_scan = data['images'][random_index][:,:]/255\n",
    "\n",
    "plt.imshow(random_scan);"
   ]
  },
  {
   "cell_type": "markdown",
   "metadata": {},
   "source": [
    "## Label Information"
   ]
  },
  {
   "cell_type": "code",
   "execution_count": 40,
   "metadata": {
    "ExecuteTime": {
     "end_time": "2020-01-20T04:31:21.480533Z",
     "start_time": "2020-01-20T04:31:21.233222Z"
    }
   },
   "outputs": [
    {
     "name": "stdout",
     "output_type": "stream",
     "text": [
      "['epidural', 'any'] -- Occurences: 865\n",
      "['epidural', 'intraparenchymal', 'any'] -- Occurences: 131\n",
      "['epidural', 'intraparenchymal', 'intraventricular', 'any'] -- Occurences: 29\n",
      "['epidural', 'intraparenchymal', 'intraventricular', 'subarachnoid', 'any'] -- Occurences: 24\n",
      "['epidural', 'intraparenchymal', 'intraventricular', 'subarachnoid', 'subdural', 'any'] -- Occurences: 14\n",
      "['epidural', 'intraparenchymal', 'intraventricular', 'subdural', 'any'] -- Occurences: 11\n",
      "['epidural', 'intraparenchymal', 'subarachnoid', 'any'] -- Occurences: 44\n",
      "['epidural', 'intraparenchymal', 'subarachnoid', 'subdural', 'any'] -- Occurences: 28\n",
      "['epidural', 'intraparenchymal', 'subdural', 'any'] -- Occurences: 41\n",
      "['epidural', 'intraventricular', 'any'] -- Occurences: 26\n",
      "['epidural', 'intraventricular', 'subarachnoid', 'any'] -- Occurences: 8\n",
      "['epidural', 'intraventricular', 'subarachnoid', 'subdural', 'any'] -- Occurences: 16\n",
      "['epidural', 'intraventricular', 'subdural', 'any'] -- Occurences: 11\n",
      "['epidural', 'subarachnoid', 'any'] -- Occurences: 108\n",
      "['epidural', 'subarachnoid', 'subdural', 'any'] -- Occurences: 54\n",
      "['epidural', 'subdural', 'any'] -- Occurences: 214\n",
      "['intraparenchymal', 'any'] -- Occurences: 8306\n",
      "['intraparenchymal', 'intraventricular', 'any'] -- Occurences: 3766\n",
      "['intraparenchymal', 'intraventricular', 'subarachnoid', 'any'] -- Occurences: 1040\n",
      "['intraparenchymal', 'intraventricular', 'subarachnoid', 'subdural', 'any'] -- Occurences: 420\n",
      "['intraparenchymal', 'intraventricular', 'subdural', 'any'] -- Occurences: 368\n",
      "['intraparenchymal', 'subarachnoid', 'any'] -- Occurences: 2122\n",
      "['intraparenchymal', 'subarachnoid', 'subdural', 'any'] -- Occurences: 1204\n",
      "['intraparenchymal', 'subdural', 'any'] -- Occurences: 1750\n",
      "['intraventricular', 'any'] -- Occurences: 5217\n",
      "['intraventricular', 'subarachnoid', 'any'] -- Occurences: 1860\n",
      "['intraventricular', 'subarachnoid', 'subdural', 'any'] -- Occurences: 535\n",
      "['intraventricular', 'subdural', 'any'] -- Occurences: 579\n",
      "['none'] -- Occurences: 42805\n",
      "['subarachnoid', 'any'] -- Occurences: 8629\n",
      "['subarachnoid', 'subdural', 'any'] -- Occurences: 2712\n",
      "['subdural', 'any'] -- Occurences: 17063\n"
     ]
    }
   ],
   "source": [
    "unique_labels, label_counts = np.unique(data['labels'], return_counts=True)\n",
    "\n",
    "index = 0\n",
    "for i in unique_labels:\n",
    "    print(i,'-- Occurences:',label_counts[index])\n",
    "    index += 1"
   ]
  },
  {
   "cell_type": "markdown",
   "metadata": {},
   "source": [
    "# Data Transformation"
   ]
  },
  {
   "cell_type": "code",
   "execution_count": 41,
   "metadata": {
    "ExecuteTime": {
     "end_time": "2020-01-20T04:32:26.356033Z",
     "start_time": "2020-01-20T04:32:02.497016Z"
    }
   },
   "outputs": [
    {
     "name": "stdout",
     "output_type": "stream",
     "text": [
      "(100000, 75, 75)\n",
      "[[1 0 0 0 0 1 0]\n",
      " [1 0 0 0 0 1 0]\n",
      " [1 0 0 0 0 0 1]\n",
      " [1 0 0 0 0 0 1]\n",
      " [1 0 1 1 0 0 0]\n",
      " [1 0 0 0 0 0 1]\n",
      " [1 0 1 0 0 0 0]\n",
      " [1 0 0 0 0 1 1]\n",
      " [1 0 0 1 0 0 0]\n",
      " [1 0 0 0 0 0 1]]\n",
      "(100000, 75, 75)\n",
      "(100000, 5625)\n",
      "(100000, 7)\n"
     ]
    },
    {
     "data": {
      "text/plain": [
       "array([0.09019608, 0.08627451, 0.09411765, ..., 0.35686275, 0.2901961 ,\n",
       "       0.17254902], dtype=float32)"
      ]
     },
     "execution_count": 41,
     "metadata": {},
     "output_type": "execute_result"
    }
   ],
   "source": [
    "X_temp = data['images']/255\n",
    "\n",
    "X = np.empty(shape=[X_temp.shape[0]] + [2500], dtype='float32')\n",
    "print(X_temp.shape)\n",
    "\n",
    "for im in range(X_temp.shape[0]):\n",
    "    X[im,:] = X_temp[im,:,:].flatten()\n",
    "\n",
    "mlb = MultiLabelBinarizer()\n",
    "y = mlb.fit_transform(data['labels'])\n",
    "\n",
    "print(y[:10])\n",
    "print(X_temp.shape)\n",
    "print(X.shape)\n",
    "print(y.shape)\n",
    "X[0,:]"
   ]
  },
  {
   "cell_type": "code",
   "execution_count": 42,
   "metadata": {
    "ExecuteTime": {
     "end_time": "2020-01-20T04:33:14.976158Z",
     "start_time": "2020-01-20T04:33:06.766129Z"
    }
   },
   "outputs": [
    {
     "name": "stdout",
     "output_type": "stream",
     "text": [
      "(75000, 5625)\n",
      "(75000, 7)\n"
     ]
    }
   ],
   "source": [
    "# Neural Network train/test split\n",
    "X_train, X_test, y_train, y_test = train_test_split(\n",
    "    X, y, test_size=0.25, random_state=50)\n",
    "\n",
    "print (X_train.shape)\n",
    "print (y_train.shape)"
   ]
  },
  {
   "cell_type": "code",
   "execution_count": 43,
   "metadata": {
    "ExecuteTime": {
     "end_time": "2020-01-20T04:34:01.967887Z",
     "start_time": "2020-01-20T04:33:53.981693Z"
    }
   },
   "outputs": [],
   "source": [
    "stdscaler = preprocessing.StandardScaler().fit(X_train)\n",
    "\n",
    "X_train_scaled = stdscaler.transform(X_train)\n",
    "X_test_scaled  = stdscaler.transform(X_test)"
   ]
  },
  {
   "cell_type": "markdown",
   "metadata": {},
   "source": [
    "# Neural Network Model"
   ]
  },
  {
   "cell_type": "code",
   "execution_count": 44,
   "metadata": {
    "ExecuteTime": {
     "end_time": "2020-01-20T04:35:57.571264Z",
     "start_time": "2020-01-20T04:35:56.181056Z"
    }
   },
   "outputs": [
    {
     "name": "stderr",
     "output_type": "stream",
     "text": [
      "C:\\Users\\sourp\\Anaconda3\\lib\\site-packages\\ipykernel_launcher.py:5: UserWarning: Update your `Dense` call to the Keras 2 API: `Dense(168, input_shape=[5625], activation=\"relu\", kernel_regularizer=<keras.reg...)`\n",
      "  \"\"\"\n",
      "C:\\Users\\sourp\\Anaconda3\\lib\\site-packages\\ipykernel_launcher.py:6: UserWarning: Update your `Dense` call to the Keras 2 API: `Dense(126, activation=\"relu\", kernel_regularizer=<keras.reg...)`\n",
      "  \n",
      "C:\\Users\\sourp\\Anaconda3\\lib\\site-packages\\ipykernel_launcher.py:8: UserWarning: Update your `Dense` call to the Keras 2 API: `Dense(84, activation=\"relu\", kernel_regularizer=<keras.reg...)`\n",
      "  \n",
      "C:\\Users\\sourp\\Anaconda3\\lib\\site-packages\\ipykernel_launcher.py:10: UserWarning: Update your `Dense` call to the Keras 2 API: `Dense(56, activation=\"relu\", kernel_regularizer=<keras.reg...)`\n",
      "  # Remove the CWD from sys.path while we load stuff.\n",
      "C:\\Users\\sourp\\Anaconda3\\lib\\site-packages\\ipykernel_launcher.py:11: UserWarning: Update your `Dense` call to the Keras 2 API: `Dense(7, activation=\"sigmoid\", kernel_regularizer=<keras.reg...)`\n",
      "  # This is added back by InteractiveShellApp.init_path()\n"
     ]
    }
   ],
   "source": [
    "label_count = len(mlb.classes_)\n",
    "\n",
    "model = Sequential()\n",
    "\n",
    "model.add(Dense(label_count*24, input_shape=[2500], activation='relu', W_regularizer=l2(0.1)))\n",
    "model.add(Dense(label_count*18, activation='relu', W_regularizer=l2(0.01)))\n",
    "model.add(Dropout(0.3))\n",
    "model.add(Dense(label_count*12, activation='relu', W_regularizer=l2(0.01)))\n",
    "model.add(Dropout(0.2))\n",
    "model.add(Dense(label_count*8, activation='relu', W_regularizer=l2(0.001)))\n",
    "model.add(Dense(label_count, activation='sigmoid', W_regularizer=l1(0.001)))\n",
    "\n",
    "sgd = SGD(lr=0.1)\n",
    "model.compile(loss='binary_crossentropy', optimizer=sgd, metrics=['accuracy'])"
   ]
  },
  {
   "cell_type": "code",
   "execution_count": 45,
   "metadata": {
    "ExecuteTime": {
     "end_time": "2020-01-20T04:36:36.880600Z",
     "start_time": "2020-01-20T04:36:36.870624Z"
    }
   },
   "outputs": [
    {
     "name": "stdout",
     "output_type": "stream",
     "text": [
      "Model: \"sequential_2\"\n",
      "_________________________________________________________________\n",
      "Layer (type)                 Output Shape              Param #   \n",
      "=================================================================\n",
      "dense_6 (Dense)              (None, 168)               945168    \n",
      "_________________________________________________________________\n",
      "dense_7 (Dense)              (None, 126)               21294     \n",
      "_________________________________________________________________\n",
      "dropout_3 (Dropout)          (None, 126)               0         \n",
      "_________________________________________________________________\n",
      "dense_8 (Dense)              (None, 84)                10668     \n",
      "_________________________________________________________________\n",
      "dropout_4 (Dropout)          (None, 84)                0         \n",
      "_________________________________________________________________\n",
      "dense_9 (Dense)              (None, 56)                4760      \n",
      "_________________________________________________________________\n",
      "dense_10 (Dense)             (None, 7)                 399       \n",
      "=================================================================\n",
      "Total params: 982,289\n",
      "Trainable params: 982,289\n",
      "Non-trainable params: 0\n",
      "_________________________________________________________________\n"
     ]
    }
   ],
   "source": [
    "model.summary()"
   ]
  },
  {
   "cell_type": "code",
   "execution_count": 46,
   "metadata": {
    "ExecuteTime": {
     "end_time": "2020-01-20T04:46:14.631707Z",
     "start_time": "2020-01-20T04:37:16.098800Z"
    }
   },
   "outputs": [
    {
     "name": "stdout",
     "output_type": "stream",
     "text": [
      "Train on 75000 samples, validate on 25000 samples\n",
      "Epoch 1/100\n",
      " - 7s - loss: 4.8662 - accuracy: 0.7985 - val_loss: 1.3308 - val_accuracy: 0.8139\n",
      "Epoch 2/100\n",
      " - 5s - loss: 1.0160 - accuracy: 0.8130 - val_loss: 0.7902 - val_accuracy: 0.8142\n",
      "Epoch 3/100\n",
      " - 5s - loss: 0.6891 - accuracy: 0.8128 - val_loss: 0.6152 - val_accuracy: 0.8120\n",
      "Epoch 4/100\n",
      " - 5s - loss: 0.5786 - accuracy: 0.8129 - val_loss: 0.5473 - val_accuracy: 0.8139\n",
      "Epoch 5/100\n",
      " - 5s - loss: 0.5374 - accuracy: 0.8124 - val_loss: 0.5225 - val_accuracy: 0.8140\n",
      "Epoch 6/100\n",
      " - 5s - loss: 0.5174 - accuracy: 0.8127 - val_loss: 0.5060 - val_accuracy: 0.8149\n",
      "Epoch 7/100\n",
      " - 5s - loss: 0.5066 - accuracy: 0.8125 - val_loss: 0.5022 - val_accuracy: 0.8148\n",
      "Epoch 8/100\n",
      " - 5s - loss: 0.4994 - accuracy: 0.8120 - val_loss: 0.4945 - val_accuracy: 0.8139\n",
      "Epoch 9/100\n",
      " - 5s - loss: 0.4932 - accuracy: 0.8126 - val_loss: 0.4871 - val_accuracy: 0.8131\n",
      "Epoch 10/100\n",
      " - 5s - loss: 0.4884 - accuracy: 0.8122 - val_loss: 0.4831 - val_accuracy: 0.8136\n",
      "Epoch 11/100\n",
      " - 5s - loss: 0.4846 - accuracy: 0.8125 - val_loss: 0.4870 - val_accuracy: 0.8113\n",
      "Epoch 12/100\n",
      " - 5s - loss: 0.4815 - accuracy: 0.8126 - val_loss: 0.4766 - val_accuracy: 0.8147\n",
      "Epoch 13/100\n",
      " - 5s - loss: 0.4789 - accuracy: 0.8127 - val_loss: 0.4724 - val_accuracy: 0.8145\n",
      "Epoch 14/100\n",
      " - 5s - loss: 0.4757 - accuracy: 0.8126 - val_loss: 0.4708 - val_accuracy: 0.8145\n",
      "Epoch 15/100\n",
      " - 5s - loss: 0.4754 - accuracy: 0.8119 - val_loss: 0.4686 - val_accuracy: 0.8130\n",
      "Epoch 16/100\n",
      " - 6s - loss: 0.4724 - accuracy: 0.8119 - val_loss: 0.4684 - val_accuracy: 0.8127\n",
      "Epoch 17/100\n",
      " - 6s - loss: 0.4701 - accuracy: 0.8129 - val_loss: 0.4676 - val_accuracy: 0.8140\n",
      "Epoch 18/100\n",
      " - 6s - loss: 0.4692 - accuracy: 0.8117 - val_loss: 0.4633 - val_accuracy: 0.8139\n",
      "Epoch 19/100\n",
      " - 5s - loss: 0.4676 - accuracy: 0.8123 - val_loss: 0.4659 - val_accuracy: 0.8101\n",
      "Epoch 20/100\n",
      " - 5s - loss: 0.4653 - accuracy: 0.8124 - val_loss: 0.4704 - val_accuracy: 0.8103\n",
      "Epoch 21/100\n",
      " - 5s - loss: 0.4648 - accuracy: 0.8128 - val_loss: 0.4707 - val_accuracy: 0.8087\n",
      "Epoch 22/100\n",
      " - 5s - loss: 0.4644 - accuracy: 0.8123 - val_loss: 0.4589 - val_accuracy: 0.8143\n",
      "Epoch 23/100\n",
      " - 5s - loss: 0.4636 - accuracy: 0.8124 - val_loss: 0.4698 - val_accuracy: 0.8052\n",
      "Epoch 24/100\n",
      " - 5s - loss: 0.4626 - accuracy: 0.8125 - val_loss: 0.4596 - val_accuracy: 0.8124\n",
      "Epoch 25/100\n",
      " - 5s - loss: 0.4613 - accuracy: 0.8129 - val_loss: 0.4557 - val_accuracy: 0.8166\n",
      "Epoch 26/100\n",
      " - 5s - loss: 0.4611 - accuracy: 0.8124 - val_loss: 0.4623 - val_accuracy: 0.8106\n",
      "Epoch 27/100\n",
      " - 5s - loss: 0.4597 - accuracy: 0.8128 - val_loss: 0.4548 - val_accuracy: 0.8156\n",
      "Epoch 28/100\n",
      " - 5s - loss: 0.4599 - accuracy: 0.8126 - val_loss: 0.4693 - val_accuracy: 0.8088\n",
      "Epoch 29/100\n",
      " - 5s - loss: 0.4593 - accuracy: 0.8123 - val_loss: 0.4583 - val_accuracy: 0.8138\n",
      "Epoch 30/100\n",
      " - 5s - loss: 0.4589 - accuracy: 0.8123 - val_loss: 0.4547 - val_accuracy: 0.8129\n",
      "Epoch 31/100\n",
      " - 5s - loss: 0.4586 - accuracy: 0.8126 - val_loss: 0.4535 - val_accuracy: 0.8133\n",
      "Epoch 32/100\n",
      " - 5s - loss: 0.4580 - accuracy: 0.8126 - val_loss: 0.4555 - val_accuracy: 0.8122\n",
      "Epoch 33/100\n",
      " - 5s - loss: 0.4573 - accuracy: 0.8129 - val_loss: 0.4554 - val_accuracy: 0.8126\n",
      "Epoch 34/100\n",
      " - 5s - loss: 0.4573 - accuracy: 0.8127 - val_loss: 0.4584 - val_accuracy: 0.8118\n",
      "Epoch 35/100\n",
      " - 5s - loss: 0.4564 - accuracy: 0.8130 - val_loss: 0.4740 - val_accuracy: 0.8027\n",
      "Epoch 36/100\n",
      " - 5s - loss: 0.4563 - accuracy: 0.8129 - val_loss: 0.4517 - val_accuracy: 0.8136\n",
      "Epoch 37/100\n",
      " - 5s - loss: 0.4563 - accuracy: 0.8124 - val_loss: 0.4515 - val_accuracy: 0.8152\n",
      "Epoch 38/100\n",
      " - 5s - loss: 0.4561 - accuracy: 0.8129 - val_loss: 0.4573 - val_accuracy: 0.8133\n",
      "Epoch 39/100\n",
      " - 5s - loss: 0.4552 - accuracy: 0.8129 - val_loss: 0.4500 - val_accuracy: 0.8150\n",
      "Epoch 40/100\n",
      " - 5s - loss: 0.4553 - accuracy: 0.8124 - val_loss: 0.4494 - val_accuracy: 0.8152\n",
      "Epoch 41/100\n",
      " - 5s - loss: 0.4558 - accuracy: 0.8123 - val_loss: 0.4673 - val_accuracy: 0.8077\n",
      "Epoch 42/100\n",
      " - 5s - loss: 0.4554 - accuracy: 0.8125 - val_loss: 0.4525 - val_accuracy: 0.8152\n",
      "Epoch 43/100\n",
      " - 5s - loss: 0.4553 - accuracy: 0.8130 - val_loss: 0.4527 - val_accuracy: 0.8120\n",
      "Epoch 44/100\n",
      " - 5s - loss: 0.4548 - accuracy: 0.8128 - val_loss: 0.4529 - val_accuracy: 0.8116\n",
      "Epoch 45/100\n",
      " - 5s - loss: 0.4550 - accuracy: 0.8128 - val_loss: 0.4522 - val_accuracy: 0.8144\n",
      "Epoch 46/100\n",
      " - 6s - loss: 0.4543 - accuracy: 0.8132 - val_loss: 0.4528 - val_accuracy: 0.8128\n",
      "Epoch 47/100\n",
      " - 5s - loss: 0.4547 - accuracy: 0.8130 - val_loss: 0.4546 - val_accuracy: 0.8123\n",
      "Epoch 48/100\n",
      " - 5s - loss: 0.4541 - accuracy: 0.8130 - val_loss: 0.4483 - val_accuracy: 0.8155\n",
      "Epoch 49/100\n",
      " - 5s - loss: 0.4546 - accuracy: 0.8130 - val_loss: 0.4484 - val_accuracy: 0.8149\n",
      "Epoch 50/100\n",
      " - 5s - loss: 0.4531 - accuracy: 0.8130 - val_loss: 0.4524 - val_accuracy: 0.8149\n",
      "Epoch 51/100\n",
      " - 5s - loss: 0.4540 - accuracy: 0.8131 - val_loss: 0.4520 - val_accuracy: 0.8133\n",
      "Epoch 52/100\n",
      " - 5s - loss: 0.4542 - accuracy: 0.8129 - val_loss: 0.4538 - val_accuracy: 0.8121\n",
      "Epoch 53/100\n",
      " - 5s - loss: 0.4535 - accuracy: 0.8130 - val_loss: 0.4513 - val_accuracy: 0.8134\n",
      "Epoch 54/100\n",
      " - 5s - loss: 0.4543 - accuracy: 0.8123 - val_loss: 0.4559 - val_accuracy: 0.8122\n",
      "Epoch 55/100\n",
      " - 5s - loss: 0.4532 - accuracy: 0.8127 - val_loss: 0.4501 - val_accuracy: 0.8153\n",
      "Epoch 56/100\n",
      " - 5s - loss: 0.4531 - accuracy: 0.8130 - val_loss: 0.4609 - val_accuracy: 0.8100\n",
      "Epoch 57/100\n",
      " - 5s - loss: 0.4527 - accuracy: 0.8131 - val_loss: 0.4657 - val_accuracy: 0.8069\n",
      "Epoch 58/100\n",
      " - 5s - loss: 0.4536 - accuracy: 0.8128 - val_loss: 0.4638 - val_accuracy: 0.8063\n",
      "Epoch 59/100\n",
      " - 5s - loss: 0.4528 - accuracy: 0.8134 - val_loss: 0.4508 - val_accuracy: 0.8135\n",
      "Epoch 60/100\n",
      " - 5s - loss: 0.4533 - accuracy: 0.8131 - val_loss: 0.4657 - val_accuracy: 0.8060\n",
      "Epoch 61/100\n",
      " - 5s - loss: 0.4538 - accuracy: 0.8127 - val_loss: 0.4532 - val_accuracy: 0.8122\n",
      "Epoch 62/100\n",
      " - 5s - loss: 0.4535 - accuracy: 0.8129 - val_loss: 0.4506 - val_accuracy: 0.8128\n",
      "Epoch 63/100\n",
      " - 5s - loss: 0.4528 - accuracy: 0.8132 - val_loss: 0.4620 - val_accuracy: 0.8079\n",
      "Epoch 64/100\n",
      " - 5s - loss: 0.4535 - accuracy: 0.8126 - val_loss: 0.4712 - val_accuracy: 0.8014\n",
      "Epoch 65/100\n",
      " - 5s - loss: 0.4528 - accuracy: 0.8129 - val_loss: 0.4479 - val_accuracy: 0.8153\n",
      "Epoch 66/100\n",
      " - 5s - loss: 0.4531 - accuracy: 0.8127 - val_loss: 0.4506 - val_accuracy: 0.8132\n",
      "Epoch 67/100\n",
      " - 5s - loss: 0.4526 - accuracy: 0.8130 - val_loss: 0.4492 - val_accuracy: 0.8150\n",
      "Epoch 68/100\n",
      " - 5s - loss: 0.4524 - accuracy: 0.8133 - val_loss: 0.4540 - val_accuracy: 0.8105\n",
      "Epoch 69/100\n",
      " - 5s - loss: 0.4533 - accuracy: 0.8129 - val_loss: 0.4509 - val_accuracy: 0.8156\n",
      "Epoch 70/100\n",
      " - 5s - loss: 0.4524 - accuracy: 0.8135 - val_loss: 0.4497 - val_accuracy: 0.8137\n",
      "Epoch 71/100\n",
      " - 5s - loss: 0.4528 - accuracy: 0.8130 - val_loss: 0.4494 - val_accuracy: 0.8143\n",
      "Epoch 72/100\n",
      " - 5s - loss: 0.4527 - accuracy: 0.8135 - val_loss: 0.4539 - val_accuracy: 0.8133\n",
      "Epoch 73/100\n",
      " - 5s - loss: 0.4530 - accuracy: 0.8128 - val_loss: 0.4514 - val_accuracy: 0.8110\n",
      "Epoch 74/100\n",
      " - 5s - loss: 0.4528 - accuracy: 0.8132 - val_loss: 0.4475 - val_accuracy: 0.8151\n",
      "Epoch 75/100\n",
      " - 5s - loss: 0.4530 - accuracy: 0.8132 - val_loss: 0.4485 - val_accuracy: 0.8161\n",
      "Epoch 76/100\n",
      " - 5s - loss: 0.4524 - accuracy: 0.8126 - val_loss: 0.4668 - val_accuracy: 0.8037\n",
      "Epoch 77/100\n",
      " - 5s - loss: 0.4524 - accuracy: 0.8134 - val_loss: 0.4479 - val_accuracy: 0.8162\n",
      "Epoch 78/100\n",
      " - 5s - loss: 0.4519 - accuracy: 0.8136 - val_loss: 0.4458 - val_accuracy: 0.8175\n",
      "Epoch 79/100\n",
      " - 5s - loss: 0.4513 - accuracy: 0.8137 - val_loss: 0.4487 - val_accuracy: 0.8147\n",
      "Epoch 80/100\n",
      " - 5s - loss: 0.4522 - accuracy: 0.8131 - val_loss: 0.4595 - val_accuracy: 0.8111\n",
      "Epoch 81/100\n",
      " - 5s - loss: 0.4527 - accuracy: 0.8129 - val_loss: 0.4582 - val_accuracy: 0.8093\n",
      "Epoch 82/100\n",
      " - 5s - loss: 0.4522 - accuracy: 0.8136 - val_loss: 0.4482 - val_accuracy: 0.8151\n",
      "Epoch 83/100\n",
      " - 6s - loss: 0.4518 - accuracy: 0.8132 - val_loss: 0.4524 - val_accuracy: 0.8154\n",
      "Epoch 84/100\n",
      " - 6s - loss: 0.4517 - accuracy: 0.8139 - val_loss: 0.4463 - val_accuracy: 0.8141\n",
      "Epoch 85/100\n",
      " - 5s - loss: 0.4522 - accuracy: 0.8134 - val_loss: 0.4609 - val_accuracy: 0.8064\n",
      "Epoch 86/100\n",
      " - 6s - loss: 0.4520 - accuracy: 0.8134 - val_loss: 0.4617 - val_accuracy: 0.8117\n"
     ]
    },
    {
     "name": "stdout",
     "output_type": "stream",
     "text": [
      "Epoch 87/100\n",
      " - 5s - loss: 0.4523 - accuracy: 0.8130 - val_loss: 0.4615 - val_accuracy: 0.8080\n",
      "Epoch 88/100\n",
      " - 5s - loss: 0.4512 - accuracy: 0.8141 - val_loss: 0.4514 - val_accuracy: 0.8119\n",
      "Epoch 89/100\n",
      " - 5s - loss: 0.4529 - accuracy: 0.8127 - val_loss: 0.4570 - val_accuracy: 0.8132\n",
      "Epoch 90/100\n",
      " - 5s - loss: 0.4519 - accuracy: 0.8132 - val_loss: 0.4548 - val_accuracy: 0.8137\n",
      "Epoch 91/100\n",
      " - 5s - loss: 0.4522 - accuracy: 0.8133 - val_loss: 0.4471 - val_accuracy: 0.8139\n",
      "Epoch 92/100\n",
      " - 5s - loss: 0.4516 - accuracy: 0.8134 - val_loss: 0.4512 - val_accuracy: 0.8120\n",
      "Epoch 93/100\n",
      " - 5s - loss: 0.4516 - accuracy: 0.8136 - val_loss: 0.4479 - val_accuracy: 0.8152\n",
      "Epoch 94/100\n",
      " - 5s - loss: 0.4521 - accuracy: 0.8129 - val_loss: 0.4496 - val_accuracy: 0.8128\n",
      "Epoch 95/100\n",
      " - 5s - loss: 0.4519 - accuracy: 0.8131 - val_loss: 0.4480 - val_accuracy: 0.8156\n",
      "Epoch 96/100\n",
      " - 5s - loss: 0.4517 - accuracy: 0.8132 - val_loss: 0.4605 - val_accuracy: 0.8059\n",
      "Epoch 97/100\n",
      " - 5s - loss: 0.4520 - accuracy: 0.8132 - val_loss: 0.4456 - val_accuracy: 0.8165\n",
      "Epoch 98/100\n",
      " - 5s - loss: 0.4516 - accuracy: 0.8138 - val_loss: 0.4596 - val_accuracy: 0.8098\n",
      "Epoch 99/100\n",
      " - 5s - loss: 0.4518 - accuracy: 0.8132 - val_loss: 0.4574 - val_accuracy: 0.8095\n",
      "Epoch 100/100\n",
      " - 5s - loss: 0.4519 - accuracy: 0.8134 - val_loss: 0.4496 - val_accuracy: 0.8154\n"
     ]
    }
   ],
   "source": [
    "history = model.fit(X_train_scaled, y_train, batch_size = 256, \n",
    "                    epochs = 100, verbose=2, validation_data=(X_test_scaled, y_test))"
   ]
  },
  {
   "cell_type": "code",
   "execution_count": 47,
   "metadata": {
    "ExecuteTime": {
     "end_time": "2020-01-20T05:20:46.638101Z",
     "start_time": "2020-01-20T05:20:46.389719Z"
    }
   },
   "outputs": [
    {
     "name": "stdout",
     "output_type": "stream",
     "text": [
      "BC after final iteration:  0.4495619329071045\n"
     ]
    },
    {
     "data": {
      "image/png": "[encoded data removed]",
      "text/plain": [
       "<Figure size 432x288 with 1 Axes>"
      ]
     },
     "metadata": {
      "needs_background": "light"
     },
     "output_type": "display_data"
    }
   ],
   "source": [
    "fig = plt.figure(figsize=(6,4))\n",
    "\n",
    "# Summary of loss history\n",
    "plt.plot(history.history['loss'])\n",
    "plt.plot(history.history['val_loss'], 'g--')\n",
    "plt.title('Model Loss')\n",
    "plt.ylabel('Binary Crossentropy')\n",
    "plt.xlabel('Epoch')\n",
    "plt.legend(['Training Loss', 'Testing Loss'], loc='upper right')\n",
    "print (\"BC after final iteration: \", history.history['val_loss'][-1])\n",
    "plt.show()"
   ]
  },
  {
   "cell_type": "code",
   "execution_count": 48,
   "metadata": {
    "ExecuteTime": {
     "end_time": "2020-01-20T05:21:26.318071Z",
     "start_time": "2020-01-20T05:21:26.176384Z"
    },
    "scrolled": true
   },
   "outputs": [
    {
     "name": "stdout",
     "output_type": "stream",
     "text": [
      "Accuracy after final iteration:  0.815371572971344\n"
     ]
    },
    {
     "data": {
      "image/png": "[encoded data removed]",
      "text/plain": [
       "<Figure size 432x288 with 1 Axes>"
      ]
     },
     "metadata": {
      "needs_background": "light"
     },
     "output_type": "display_data"
    }
   ],
   "source": [
    "fig = plt.figure(figsize=(6,4))\n",
    "\n",
    "# Summary of accuracy history\n",
    "plt.plot(history.history['accuracy'])\n",
    "plt.plot(history.history['val_accuracy'], 'g--')\n",
    "plt.title('Model Accuracy')\n",
    "plt.ylabel('Model Accuracy')\n",
    "plt.xlabel('Epoch')\n",
    "plt.legend(['Training Accuracy', 'Testing Accuracy'], loc='lower left')\n",
    "print (\"Accuracy after final iteration: \", history.history['val_accuracy'][-1])\n",
    "plt.show()"
   ]
  },
  {
   "cell_type": "markdown",
   "metadata": {},
   "source": [
    "## Test Model"
   ]
  },
  {
   "cell_type": "code",
   "execution_count": null,
   "metadata": {},
   "outputs": [],
   "source": [
    "from sklearn.metrics import classification_report\n",
    "\n",
    "y_pred = history.predict(x_test2, batch_size=64, verbose=1)\n",
    "y_actual = np.argmax(y_pred, axis=1)\n",
    "\n",
    "print(classification_report(y_test, y_actual))"
   ]
  }
 ],
 "metadata": {
  "kernelspec": {
   "display_name": "Python 3",
   "language": "python",
   "name": "python3"
  },
  "language_info": {
   "codemirror_mode": {
    "name": "ipython",
    "version": 3
   },
   "file_extension": ".py",
   "mimetype": "text/x-python",
   "name": "python",
   "nbconvert_exporter": "python",
   "pygments_lexer": "ipython3",
   "version": "3.7.1"
  },
  "toc": {
   "base_numbering": 1,
   "nav_menu": {},
   "number_sections": true,
   "sideBar": true,
   "skip_h1_title": false,
   "title_cell": "Table of Contents",
   "title_sidebar": "Contents",
   "toc_cell": false,
   "toc_position": {
    "height": "calc(100% - 180px)",
    "left": "10px",
    "top": "150px",
    "width": "377.188px"
   },
   "toc_section_display": true,
   "toc_window_display": true
  },
  "varInspector": {
   "cols": {
    "lenName": 16,
    "lenType": 16,
    "lenVar": 40
   },
   "kernels_config": {
    "python": {
     "delete_cmd_postfix": "",
     "delete_cmd_prefix": "del ",
     "library": "var_list.py",
     "varRefreshCmd": "print(var_dic_list())"
    },
    "r": {
     "delete_cmd_postfix": ") ",
     "delete_cmd_prefix": "rm(",
     "library": "var_list.r",
     "varRefreshCmd": "cat(var_dic_list()) "
    }
   },
   "types_to_exclude": [
    "module",
    "function",
    "builtin_function_or_method",
    "instance",
    "_Feature"
   ],
   "window_display": false
  }
 },
 "nbformat": 4,
 "nbformat_minor": 2
}
